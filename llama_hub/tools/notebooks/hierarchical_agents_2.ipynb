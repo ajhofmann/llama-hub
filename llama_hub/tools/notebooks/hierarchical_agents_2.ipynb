{
 "cells": [
  {
   "cell_type": "markdown",
   "id": "6a28e02f-ace3-41db-a115-3ae58a9b6d4d",
   "metadata": {},
   "source": [
    "## Hierarchical Agents with LlamaIndex\n",
    "\n",
    "The goal of this notebook is to demonstrate and compare the use of hierachical agents with LlamaIndex. We will set up a few tools and compare the capabilities of the agent when using the resources it has available for retrieval as agents vs tools.\n",
    "\n",
    "### Setup OpenAI Agent\n",
    "To start we will import the OpenAI agent we will be using across examples, and authenticate with our key:"
   ]
  },
  {
   "cell_type": "code",
   "execution_count": 1,
   "id": "50d77e7f-762c-497d-8a1f-bf5826e85dba",
   "metadata": {},
   "outputs": [],
   "source": [
    "# Set up OpenAI\n",
    "import openai\n",
    "from llama_index.agent import OpenAIAgent\n",
    "openai.api_key = 'sk-your-key'"
   ]
  },
  {
   "cell_type": "markdown",
   "id": "b55495f1-0ea6-4d6f-879e-ecd393a0d6b0",
   "metadata": {},
   "source": [
    "### Setting up a Database Query Engine\n",
    "\n",
    "The first data source we will be setting up is a tool to convert natural language prompts into an SQL query against a database. This tool connects to a SQL database and retrieves the metadata of the tables, using a LLM to craft the queries.\n",
    "\n",
    "For more information see the [LlamaIndex SQL Guide](https://gpt-index.readthedocs.io/en/latest/examples/query_engine/SQLAutoVectorQueryEngine.html)"
   ]
  },
  {
   "cell_type": "code",
   "execution_count": 2,
   "id": "1c4c3dd4-5fff-4d97-ace6-e9f850c64b00",
   "metadata": {},
   "outputs": [
    {
     "name": "stdout",
     "output_type": "stream",
     "text": [
      "\"United States\", \"China\", \"Japan\", \"Germany\", \"India\", \"United Kingdom\", \"France\", \"Russian Federation\", \"Canada\", \"Italy\", \"Brazil\", \"Australia\", \"Korea, Rep.\", \"Mexico\", \"Spain\", \"Indonesia\", \"Saudi Arabia\", \"Netherlands\", \"Türkiye\", \"Switzerland\", \"Poland\", \"Argentina\", \"Sweden\", \"Norway\", \"Belgium\", \"Cuba\", \"Ireland\", \"Israel\", \"United Arab Emirates\", \"Thailand\", \"Nigeria\", \"Egypt, Arab Rep.\", \"Austria\", \"Singapore\", \"Bangladesh\", \"Vietnam\", \"Malaysia\", \"South Africa\", \"Philippines\", \"Denmark\", \"Iran, Islamic Rep.\", \"Pakistan\", \"Hong Kong SAR, China\", \"Colombia\", \"Romania\", \"Chile\", \"Czech Republic\", \"Finland\", \"Iraq\", \"Portugal\", \"New Zealand\", \"Peru\", \"Qatar\", \"Kazakhstan\", \"Greece\", \"Algeria\", \"Kuwait\", \"Hungary\", \"Ukraine\", \"Morocco\", \"Ethiopia\", \"Slovak Republic\", \"Ecuador\", \"Oman\", \"Dominican Republic\", \"Puerto Rico\", \"Kenya\", \"Angola\", \"Guatemala\", \"Bulgaria\", \"Luxembourg\", \"Uzbekistan\", \"Azerbaijan\", \"Panama\", \"Tanzania\", \"Sri Lanka\", \"Ghana\", \"Belarus\", \"Uruguay\", \"Croatia\", \"Lithuania\", \"Côte d'Ivoire\", \"Costa Rica\", \"Serbia\", \"Slovenia\", \"Myanmar\", \"Congo, Dem. Rep.\", \"Sudan\", \"Jordan\", \"Tunisia\", \"Libya\", \"Turkmenistan\", \"Uganda\", \"Bahrain\", \"Cameroon\", \"Bolivia\", \"Paraguay\", \"Latvia\", \"Nepal\", \"Estonia\", \"El Salvador\", \"Honduras\", \"Papua New Guinea\", \"Cambodia\", \"Zambia\", \"Cyprus\", \"Trinidad and Tobago\", \"Iceland\", \"Senegal\", \"Georgia\", \"Bosnia and Herzegovina\", \"Lebanon\", \"Macao SAR, China\", \"Guinea\", \"Gabon\", \"Zimbabwe\", \"Botswana\", \"Haiti\", \"Armenia\", \"West Bank and Gaza\", \"Burkina Faso\", \"Albania\", \"Mali\", \"Mozambique\", \"Malta\", \"Benin\", \"Jamaica\", \"Mongolia\", \"Brunei Darussalam\", \"Lao PDR\", \"Nicaragua\", \"Guyana\", \"Madagascar\", \"Congo, Rep.\", \"Afghanistan\", \"Moldova\", \"Niger\", \"North Macedonia\", \"Rwanda\", \"Malawi\", \"Mauritius\", \"Bahamas, The\", \"Chad\", \"Namibia\", \"Equatorial Guinea\", \"Channel Islands\", \"Syrian Arab Republic\", \"Kyrgyz Republic\", \"Tajikistan\", \"Mauritania\", \"New Caledonia\", \"Kosovo\", \"Monaco\", \"Togo\", \"Somalia\", \"Bermuda\", \"Liechtenstein\", \"Isle of Man\", \"Maldives\", \"Guam\", \"Montenegro\", \"French Polynesia\", \"Cayman Islands\", \"Barbados\", \"Fiji\", \"Eswatini\", \"Virgin Islands (U.S.)\", \"Liberia\", \"Sierra Leone\", \"Faroe Islands\", \"Suriname\", \"Djibouti\", \"Andorra\", \"Greenland\", \"Timor-Leste\", \"Aruba\", \"Burundi\", \"Belize\", \"Curaçao\", \"Lesotho\", \"Bhutan\", \"Central African Republic\", \"Cabo Verde\", \"Gambia, The\", \"St. Lucia\", \"San Marino\", \"Antigua and Barbuda\", \"Guinea-Bissau\", \"Solomon Islands\", \"Seychelles\", \"Sint Maarten (Dutch part)\", \"Grenada\", \"Comoros\", \"Turks and Caicos Islands\", \"Vanuatu\", \"St. Kitts and Nevis\", \"St. Vincent and the Grenadines\", \"Northern Mariana Islands\", \"Samoa\", \"American Samoa\", \"Dominica\", \"São Tomé and Principe\", \"Tonga\", \"Micronesia, Fed. Sts.\", \"Marshall Islands\", \"Kiribati\", \"Palau\", \"Nauru\", \"Tuvalu\"\n"
     ]
    }
   ],
   "source": [
    "from sqlalchemy import create_engine\n",
    "from llama_index import SQLDatabase\n",
    "from llama_index.indices.struct_store.sql_query import NLSQLTableQueryEngine\n",
    "from llama_index.tools.query_engine import QueryEngineTool\n",
    "\n",
    "sql_database = SQLDatabase(create_engine('sqlite:///countries.db'), include_tables=[\"airports\", \"gdp\", \"population\"])\n",
    "\n",
    "sql_query_engine = NLSQLTableQueryEngine(\n",
    "    sql_database=sql_database,\n",
    "    tables=[\"airports\", \"gdp\", \"population\"],\n",
    ")\n",
    "\n",
    "print(sql_query_engine.query(\"list all of the countries in the database in quotes seperated by a comma\"))"
   ]
  },
  {
   "cell_type": "markdown",
   "id": "7a6e39f6-adfa-4f26-9e6a-6e728deff3b2",
   "metadata": {},
   "source": [
    "For the purposes of this demo, we are using a database of airports, GDP and population from the [world bank](https://datacatalog.worldbank.org/home). The airports table contains international airports, with the country they are located in and the number of travelers that passed through in 2019. The population and GDP tables contain population and GDP data of each country.\n",
    "\n",
    "With the SQL query engine properly set up, we retrieve the list of countries in the database to use for the next step, where we will load all of the countries wikipedia pages into a vector index.\n",
    "\n",
    "\n",
    "\n",
    "## Setting up a Vector Index Query engine\n",
    "\n",
    "We take the list of countries that the SQL query engine nicely formatted for us, and use it to pull wikipedia pages for each country. Then, we put all of the pages into a vector index that we can later use to retrieve content.\n"
   ]
  },
  {
   "cell_type": "code",
   "execution_count": 3,
   "id": "3bc263b1-99a0-49a2-b28a-b637c69eb28f",
   "metadata": {},
   "outputs": [
    {
     "data": {
      "text/plain": [
       "Response(response='Germany has a rich and diverse culture that has been shaped by major intellectual and popular currents in Europe, both religious and secular. It is known as \"the land of poets and thinkers\" due to the significant contributions of German scientists, writers, and philosophers to Western thought. Germany is also famous for its folk festival traditions, such as the Oktoberfest, and its Christmas customs. The country has a strong literary tradition, with renowned authors like Johann Wolfgang von Goethe and the Brothers Grimm, who popularized German folklore. German philosophy has also had a significant impact on the world, with influential thinkers such as Immanuel Kant, Friedrich Nietzsche, and Karl Marx. Germany\\'s cultural heritage is further reflected in its UNESCO World Heritage sites and its vibrant film industry, which has made major contributions to cinema.', source_nodes=[NodeWithScore(node=TextNode(id_='f86fff2b-82a0-4f2d-a0f3-1d6de09aa358', embedding=None, metadata={}, excluded_embed_metadata_keys=[], excluded_llm_metadata_keys=[], relationships={<NodeRelationship.SOURCE: '1'>: RelatedNodeInfo(node_id='6a237aad-8fee-4ca1-b147-bd67c30fc16c', node_type=None, metadata={}, hash='b7357ace9086ffddd6d14d102aab58405ae141a1ae78db5151de29e4cdc19c65'), <NodeRelationship.PREVIOUS: '2'>: RelatedNodeInfo(node_id='f825e38e-ff29-4fff-ad62-cd0de4087211', node_type=None, metadata={}, hash='5b8fe68237f632cc6c250ee3b43a24a9546dfbf89b1e58a54a87a1ff02735ed0'), <NodeRelationship.NEXT: '3'>: RelatedNodeInfo(node_id='3394c777-4b48-4ffd-8df6-89c5b6e37092', node_type=None, metadata={}, hash='05a62830980b199eec870c795be285ee3e1ddfc3b7d769839ccfc8aaaa2684a9')}, hash='562a9d00e514ef5eac03cf59726becb8dffea44bee246f7e9e617e9d2d9005b4', text=\"=== Languages ===\\n\\nGerman is the official and predominant spoken language in Germany. It is one of 24 official and working languages of the European Union, and one of the three procedural languages of the European Commission. German is the most widely spoken first language in the European Union, with around 100 million native speakers.Recognised native minority languages in Germany are Danish, Low German, Low Rhenish, Sorbian, Romani, North Frisian and Saterland Frisian; they are officially protected by the European Charter for Regional or Minority Languages. The most used immigrant languages are Turkish, Arabic, Kurdish, Polish, Greek, Serbo-Croatian, Bulgarian and other Balkan languages, as well as Russian. Germans are typically multilingual: 67% of German citizens claim to be able to communicate in at least one foreign language and 27% in at least two.\\n\\n\\n=== Education ===\\n\\nResponsibility for educational supervision in Germany is primarily organised within the individual states. Optional kindergarten education is provided for all children between three and six years old, after which school attendance is compulsory for at least nine years depending on the state. Primary education usually lasts for four to six years. Secondary schooling is divided into tracks based on whether students pursue academic or vocational education. A system of apprenticeship called Duale Ausbildung leads to a skilled qualification which is almost comparable to an academic degree. It allows students in vocational training to learn in a company as well as in a state-run trade school. This model is well regarded and reproduced all around the world.Most of the German universities are public institutions, and students traditionally study without fee payment. The general requirement for attending university is the Abitur. According to an OECD report in 2014, Germany is the world's third leading destination for international study. The established universities in Germany include some of the oldest in the world, with Heidelberg University (established in 1386), Leipzig University (established in 1409) and the University of Rostock (established in 1419) being the oldest. The Humboldt University of Berlin, founded in 1810 by the liberal educational reformer Wilhelm von Humboldt, became the academic model for many Western universities. In the contemporary era Germany has developed eleven Universities of Excellence.\\n\\n\\n=== Health ===\\n\\nGermany's system of hospitals, called Krankenhäuser, dates from medieval times, and today, Germany has the world's oldest universal health care system, dating from Bismarck's social legislation of the 1880s. Since the 1880s, reforms and provisions have ensured a balanced health care system. The population is covered by a health insurance plan provided by statute, with criteria allowing some groups to opt for a private health insurance contract. According to the World Health Organization (WHO), Germany's health care system was 77% government-funded and 23% privately funded as of 2013. In 2014, Germany spent 11.3% of its GDP on health care.Germany ranked 21st in the world in 2019 in life expectancy with 78.7 years for men and 84.8 years for women according to the WHO, and it had a very low infant mortality rate (4 per 1,000 live births). In 2019, the principal cause of death was cardiovascular disease, at 37%. Obesity in Germany has been increasingly cited as a major health issue. A 2014 study showed that 52 per cent of the adult German population was overweight or obese.\\n\\n\\n== Culture ==\\n\\nCulture in German states has been shaped by major intellectual and popular currents in Europe, both religious and secular. Historically, Germany has been called Das Land der Dichter und Denker ('the land of poets and thinkers'), because of the major role its scientists, writers and philosophers have played in the development of Western thought. A global opinion poll for the BBC revealed that Germany is recognised for having the most positive influence in the world in 2013 and 2014.Germany is well known for such folk festival traditions as the Oktoberfest and Christmas customs, which include Advent wreaths, Christmas pageants, Christmas trees, Stollen cakes, and other practices. As of 2016 UNESCO inscribed 41 properties in Germany on the World Heritage List. There are a number of public holidays in Germany determined by each state; 3 October has been a national day of Germany since 1990, celebrated as the Tag der Deutschen Einheit (German Unity Day).\", start_char_idx=None, end_char_idx=None, text_template='{metadata_str}\\n\\n{content}', metadata_template='{key}: {value}', metadata_seperator='\\n'), score=0.8294748074665311), NodeWithScore(node=TextNode(id_='297f01e0-2ce0-456b-878b-7d82f57ee2e6', embedding=None, metadata={}, excluded_embed_metadata_keys=[], excluded_llm_metadata_keys=[], relationships={<NodeRelationship.SOURCE: '1'>: RelatedNodeInfo(node_id='6a237aad-8fee-4ca1-b147-bd67c30fc16c', node_type=None, metadata={}, hash='b7357ace9086ffddd6d14d102aab58405ae141a1ae78db5151de29e4cdc19c65'), <NodeRelationship.PREVIOUS: '2'>: RelatedNodeInfo(node_id='3394c777-4b48-4ffd-8df6-89c5b6e37092', node_type=None, metadata={}, hash='05a62830980b199eec870c795be285ee3e1ddfc3b7d769839ccfc8aaaa2684a9'), <NodeRelationship.NEXT: '3'>: RelatedNodeInfo(node_id='3c3ea022-0aec-462d-902d-69c722da0066', node_type=None, metadata={}, hash='1a1cafc76e8b7026c4ed8aa3f0fd90be86cb8e0f4cf851920eaea47a6f875369')}, hash='3c6274e41937e416f1db1bbb1cd29867aa1bf1c8a2a3122e74f8cd2e30ff1468', text='=== Literature and philosophy ===\\n\\nGerman literature can be traced back to the Middle Ages and the works of writers such as Walther von der Vogelweide and Wolfram von Eschenbach. Well-known German authors include Johann Wolfgang von Goethe, Friedrich Schiller, Gotthold Ephraim Lessing and Theodor Fontane. The collections of folk tales published by the Brothers Grimm popularised German folklore on an international level. The Grimms also gathered and codified regional variants of the German language, grounding their work in historical principles; their Deutsches Wörterbuch, or German Dictionary, sometimes called the Grimm dictionary, was begun in 1838 and the first volumes published in 1854.Influential authors of the 20th century include Gerhart Hauptmann, Thomas Mann, Hermann Hesse, Heinrich Böll, and Günter Grass. The German book market is the third-largest in the world, after the United States and China. The Frankfurt Book Fair is the most important in the world for international deals and trading, with a tradition spanning over 500 years. The Leipzig Book Fair also retains a major position in Europe.German philosophy is historically significant: Gottfried Leibniz\\'s contributions to rationalism; the enlightenment philosophy by Immanuel Kant; the establishment of classical German idealism by Johann Gottlieb Fichte, Georg Wilhelm Friedrich Hegel and Friedrich Wilhelm Joseph Schelling; Arthur Schopenhauer\\'s composition of metaphysical pessimism; the formulation of communist theory by Karl Marx and Friedrich Engels; Friedrich Nietzsche\\'s development of perspectivism; Gottlob Frege\\'s contributions to the dawn of analytic philosophy; Martin Heidegger\\'s works on Being; Oswald Spengler\\'s historical philosophy; and the development of the Frankfurt School have all been very influential.\\n\\n\\n=== Media ===\\n\\nThe largest internationally operating media companies in Germany are the Bertelsmann enterprise, Axel Springer SE and ProSiebenSat.1 Media. Germany\\'s television market is the largest in Europe, with some 38 million TV households. Around 90% of German households have cable or satellite TV, with a variety of free-to-view public and commercial channels. There are more than 300 public and private radio stations in Germany; Germany\\'s national radio network is the Deutschlandradio and the public Deutsche Welle is the main German radio and television broadcaster in foreign languages. Germany\\'s print market of newspapers and magazines is the largest in Europe. The papers with the highest circulation are Bild, Süddeutsche Zeitung, Frankfurter Allgemeine Zeitung and Die Welt. The largest magazines include ADAC Motorwelt and Der Spiegel. Germany has a large video gaming market, with over 34 million players nationwide. The Gamescom is the world\\'s largest gaming convention.German cinema has made major technical and artistic contributions to film. The first works of the Skladanowsky Brothers were shown to an audience in 1895. The renowned Babelsberg Studio in Potsdam was established in 1912, thus being the first large-scale film studio in the world. Early German cinema was particularly influential with German expressionists such as Robert Wiene and Friedrich Wilhelm Murnau. Director Fritz Lang\\'s Metropolis (1927) is referred to as the first major science-fiction film. After 1945, many of the films of the immediate post-war period can be characterised as Trümmerfilm (rubble film). East German film was dominated by state-owned film studio DEFA, while the dominant genre in West Germany was the Heimatfilm (\"homeland film\"). During the 1970s and 1980s, New German Cinema directors such as Volker Schlöndorff, Werner Herzog, Wim Wenders, and Rainer Werner Fassbinder brought West German auteur cinema to critical acclaim.\\nThe Academy Award for Best Foreign Language Film (\"Oscar\") went to the German production The Tin Drum (Die Blechtrommel) in 1979, to Nowhere in Africa (Nirgendwo in Afrika) in 2002, and to The Lives of Others (Das Leben der Anderen) in 2007. Various Germans won an Oscar for their performances in other films. The annual European Film Awards ceremony is held every other year in Berlin, home of the European Film Academy. The Berlin International Film Festival, known as \"Berlinale\", awarding the \"Golden Bear\" and held annually since 1951, is one of the world\\'s leading film festivals. The \"Lolas\" are annually awarded in Berlin, at the German Film Awards.', start_char_idx=None, end_char_idx=None, text_template='{metadata_str}\\n\\n{content}', metadata_template='{key}: {value}', metadata_seperator='\\n'), score=0.8249128708389525)], metadata={'f86fff2b-82a0-4f2d-a0f3-1d6de09aa358': {}, '297f01e0-2ce0-456b-878b-7d82f57ee2e6': {}})"
      ]
     },
     "execution_count": 3,
     "metadata": {},
     "output_type": "execute_result"
    }
   ],
   "source": [
    "from pathlib import Path\n",
    "from llama_index import (\n",
    "    VectorStoreIndex,\n",
    "    SimpleDirectoryReader,\n",
    ")\n",
    "\n",
    "import requests\n",
    "wiki_titles = [\"Afghanistan\", \"Albania\", \"Algeria\", \"American Samoa\", \"Andorra\", \"Angola\", \"Anguilla\", \"Antigua and Barbuda\", \"Argentina\", \"Armenia\", \"Aruba\", \"Australia\", \"Austria\", \"Azerbaijan\", \"Bahamas\", \"Bahamas, The\", \"Bahrain\", \"Bangladesh\", \"Barbados\", \"Belarus\", \"Belgium\", \"Belize\", \"Benin\", \"Bermuda\", \"Bhutan\", \"Bolivia\", \"Bosnia and Herzegovina\", \"Botswana\", \"Brazil\", \"British Virgin Islands\", \"Brunei Darussalam\", \"Bulgaria\", \"Burkina Faso\", \"Burundi\", \"Cabo Verde\", \"Cambodia\", \"Cameroon\", \"Canada\", \"Cape Verde\", \"Cayman Islands\", \"Central African Republic\", \"Chad\", \"Channel Islands\", \"Chile\", \"China\", \"Christmas Island\", \"Cocos (Keeling) Islands\", \"Colombia\", \"Comoros\", \"Congo\", \"Congo, Dem. Rep.\", \"Congo, Rep.\", \"Cook Islands\", \"Costa Rica\", \"Croatia\", \"Cuba\", \"Curacao\", \"Curaçao\", \"Cyprus\", \"Czech Republic\", \"Côte d'Ivoire\", \"Democratic Republic of the Congo\", \"Denmark\", \"Djibouti\", \"Dominica\", \"Dominican Republic\", \"East Timor\", \"Ecuador\", \"Egypt\", \"Egypt, Arab Rep.\", \"El Salvador\", \"Equatorial Guinea\", \"Eritrea\", \"Estonia\", \"Eswatini\", \"Ethiopia\", \"Falkland Islands\", \"Faroe Islands\", \"Fiji\", \"Finland\", \"France\", \"French Guiana\", \"French Polynesia\", \"Gabon\", \"Gambia\", \"Gambia, The\", \"Georgia\", \"Germany\", \"Ghana\", \"Gibraltar\", \"Greece\", \"Greenland\", \"Grenada\", \"Guadeloupe\", \"Guam\", \"Guatemala\", \"Guinea Bissau\", \"Guinea\", \"Guinea-Bissau\", \"Guyana\", \"Haiti\", \"Honduras\", \"Hungary\", \"Iceland\", \"India\", \"Indonesia\", \"Iran\", \"Iran, Islamic Rep.\", \"Iraq\", \"Ireland\", \"Isle of Man\", \"Israel\", \"Italy\", \"Ivory Coast (Cote d'Ivoire)\", \"Jamaica\", \"Japan\", \"Jordan\", \"Kazakhstan\", \"Kenya\", \"Kiribati\", \"Korea, Rep.\", \"Kosovo\", \"Kuwait\", \"Kyrgyz Republic\", \"Kyrgyzstan\", \"Lao PDR\", \"Laos\", \"Latvia\", \"Lebanon\", \"Lesotho\", \"Liberia\", \"Libya\", \"Liechtenstein\", \"Lithuania\", \"Luxembourg\", \"Macao SAR, China\", \"Macedonia\", \"Madagascar\", \"Malawi\", \"Malaysia\", \"Maldives\", \"Mali\", \"Malta\", \"Marshall Islands\", \"Martinique\", \"Mauritania\", \"Mauritius\", \"Mayotte\", \"Mexico\", \"Micronesia\", \"Micronesia, Fed. Sts.\", \"Moldova\", \"Monaco\", \"Mongolia\", \"Montenegro\", \"Montserrat\", \"Morocco\", \"Mozambique\", \"Myanmar\", \"Namibia\", \"Nauru\", \"Nepal\", \"Netherlands\", \"New Caledonia\", \"New Zealand\", \"Nicaragua\", \"Niger\", \"Nigeria\", \"Niue\", \"Norfolk Island\", \"North Korea\", \"North Macedonia\", \"Northern Mariana Islands\", \"Norway\", \"Oman\", \"Pakistan\", \"Palau\", \"Panama\", \"Papua New Guinea\", \"Paraguay\", \"Peru\", \"Philippines\", \"Poland\", \"Portugal\", \"Puerto Rico\", \"Qatar\", \"Reunion\", \"Romania\", \"Russian Federation\", \"Rwanda\", \"Saint Barthelemy\", \"Saint Helena\", \"Saint Kitts and Nevis\", \"Saint Lucia\", \"Saint Martin\", \"Saint Pierre and Miquelon\", \"Saint Vincent and Grenadines\", \"Samoa\", \"San Marino\", \"Sao Tome and Principe\", \"Saudi Arabia\", \"Senegal\", \"Serbia\", \"Seychelles\", \"Sierra Leone\", \"Singapore\", \"Sint Maarten (Dutch part)\", \"Sint Maarten\", \"Slovak Republic\", \"Slovakia\", \"Slovenia\", \"Solomon Islands\", \"Somalia\", \"South Africa\", \"South Korea\", \"South Sudan\", \"Spain\", \"Sri Lanka\", \"St. Kitts and Nevis\", \"St. Lucia\", \"St. Martin (French part)\", \"St. Vincent and the Grenadines\", \"Sudan\", \"Suriname\", \"Swaziland\", \"Sweden\", \"Switzerland\", \"Syria\", \"Syrian Arab Republic\", \"São Tomé and Principe\", \"Taiwan\", \"Tajikistan\", \"Tanzania\", \"Thailand\", \"Timor-Leste\", \"Togo\", \"Tonga\", \"Trinidad and Tobago\", \"Tunisia\", \"Turkey\", \"Turkmenistan\", \"Turks and Caicos Islands\", \"Tuvalu\", \"Türkiye\", \"Uganda\", \"Ukraine\", \"United Arab Emirates\", \"United Kingdom\", \"United States\", \"Uruguay\", \"Uzbekistan\", \"Vanuatu\", \"Venezuela\", \"Venezuela, RB\", \"Vietnam\", \"Virgin Islands (U.S.)\", \"Wallis and Futuna Islands\", \"West Bank and Gaza\", \"Western Sahara\", \"Western Samoa\", \"Yemen\", \"Yemen, Rep.\", \"Zambia\", \"Zimbabwe\"]\n",
    "docs = []\n",
    "\n",
    "for title in wiki_titles:\n",
    "    # Fetch the wikipedia page\n",
    "    response = requests.get(\n",
    "        \"https://en.wikipedia.org/w/api.php\",\n",
    "        params={\n",
    "            \"action\": \"query\",\n",
    "            \"format\": \"json\",\n",
    "            \"titles\": title,\n",
    "            \"prop\": \"extracts\",\n",
    "            # 'exintro': True,\n",
    "            \"explaintext\": True,\n",
    "        },\n",
    "    ).json()\n",
    "    page = next(iter(response[\"query\"][\"pages\"].values()))\n",
    "    if \"extract\" not in page:\n",
    "        continue\n",
    "    wiki_text = page[\"extract\"]\n",
    "\n",
    "    data_path = Path(\"data\")\n",
    "    if not data_path.exists():\n",
    "        Path.mkdir(data_path)\n",
    "\n",
    "    # Save the content to a file\n",
    "    with open(data_path / f\"{title}.txt\", \"w\") as fp:\n",
    "        fp.write(wiki_text)\n",
    "        \n",
    "    # Append the text content to our docs array\n",
    "    docs.append(SimpleDirectoryReader(\n",
    "        input_files=[f\"data/{title}.txt\"]\n",
    "    ).load_data()[0])\n",
    "\n",
    "# Create a vector store from ALL of the documents\n",
    "vector_query_engine = VectorStoreIndex.from_documents(docs).as_query_engine()\n",
    "vector_query_engine.query('what is the culture of germany')\n"
   ]
  },
  {
   "cell_type": "markdown",
   "id": "7649316d-792b-41bd-bd68-1ef1f935cb2c",
   "metadata": {},
   "source": [
    "### Flat vs Hierarchical Agents\n",
    "\n",
    "Currently we have two useful query engines that can answer specific questions about countries. To make use of these query engines at the same time, we can wrap them in the `QueryEngineTool` abstraction which allows them to be passed to an agent. \n",
    "\n",
    "We can also take things one step further, and pass each individual tool to an agent which is then wrapped as a tool again. We will consider the agent that has direct access to the QueryEngineTools as a \"Flat Agent\", and the agent that is using the two sub agents as tools a \"Hierarchical Agent\"\n",
    "\n"
   ]
  },
  {
   "cell_type": "code",
   "execution_count": 10,
   "id": "e3c21add-4896-4f7c-9c5c-3d5e85387b2f",
   "metadata": {},
   "outputs": [],
   "source": [
    "# Make the query engine a tool\n",
    "sql_tool = QueryEngineTool.from_defaults(\n",
    "    query_engine=sql_query_engine,\n",
    "    name=\"sql_tool\",\n",
    "    description=f\"\"\"Useful for translating a natural language query into a SQL query over a database containing\n",
    "        This tool has the following tables: {sql_query_engine._get_table_context('')}\n",
    "    \"\"\"\n",
    ")\n",
    "\n",
    "# Create the SQL Agent\n",
    "sql_agent = OpenAIAgent.from_tools(\n",
    "    [\n",
    "        QueryEngineTool.from_defaults(\n",
    "            query_engine=sql_query_engine,\n",
    "            name=\"sql_tool\",\n",
    "            description=f\"\"\"Useful for translating a natural language query into a SQL query over a database containing\n",
    "                This tool has the following tables: {sql_query_engine._get_table_context('')}\n",
    "        \"\"\"\n",
    "    )],\n",
    "    system_prompt=\"\"\"\n",
    "        You are a specialized agent designed to use an SQL database to\n",
    "        query and retrieve information for the user.\n",
    "        \n",
    "        If you cannot answer a spefic question using the database, tell the user \n",
    "        that the information is not contained in the database.\n",
    "    \"\"\",\n",
    "    verbose=True\n",
    ")\n",
    "\n",
    "# Convert the SQL Agent to a Tool to use in another agent\n",
    "sql_agent_tool = QueryEngineTool.from_defaults(\n",
    "    sql_agent,\n",
    "    name='country_db_agent',\n",
    "    description=f\"\"\"Useful for translating a natural language query into a SQL query over a database containing\n",
    "        This tool has the following tables: {sql_query_engine._get_table_context('')}\n",
    "    \"\"\"\n",
    ")\n",
    "\n",
    "# Make the vector query engine a tool\n",
    "vector_tool = QueryEngineTool.from_defaults(\n",
    "    query_engine=vector_query_engine,\n",
    "    name=\"country_tool\",\n",
    "    description=\"\"\"\n",
    "        Useful for retrieving specfic information about countries, based on the content of the wikipedia page.\",\n",
    "        Pass a natural language query to this tool to retrieve information\n",
    "    \"\"\",\n",
    ")\n",
    "\n",
    "# Create the SQL Agent\n",
    "vector_agent = OpenAIAgent.from_tools(\n",
    "    [vector_tool],\n",
    "    system_prompt=\"\"\"\n",
    "        You are a specialized agent designed to answer questions on countries\n",
    "        You should use the country_tool to retrieve information on specfic countries.\n",
    "        If you have to answer questions about multiple countries, consider asking the country_tool\n",
    "        multiple questions to collect information and synthesize it into a proper response\n",
    "    \"\"\",\n",
    "    verbose=True\n",
    ")\n",
    "\n",
    "# Convert the SQL Agent to a Tool to use in another agent\n",
    "vector_agent_tool = QueryEngineTool.from_defaults(\n",
    "    vector_agent,\n",
    "    name='country_agent',\n",
    "    description=f\"\"\"\n",
    "        Useful for retrieving specfic information about countries, based on the content of the wikipedia page.\",\n",
    "        Pass a natural language query to this tool to retrieve information\n",
    "    \"\"\",\n",
    ")\n",
    "\n",
    "flat_agent = OpenAIAgent.from_tools(\n",
    "    [vector_tool, sql_tool],\n",
    "    system_prompt=\"\"\"\n",
    "        You are a specialized agent designed to have access to retrieve specialized information about countries\n",
    "        using the tools that are provided to you. Assist the user in answering any country related questions with these tools.\n",
    "    \"\"\",\n",
    "    verbose=True\n",
    ")\n",
    "\n",
    "hierarchical_agent = OpenAIAgent.from_tools(\n",
    "    [vector_agent_tool, sql_agent_tool],\n",
    "    system_prompt=\"\"\"\n",
    "        You are a specialized agent designed to have access to retrieve specialized information about countries\n",
    "        using the tools that are provided to you. Assist the user in answering any country related questions with these tools.\n",
    "    \"\"\",\n",
    "    verbose=True\n",
    ")\n"
   ]
  },
  {
   "cell_type": "markdown",
   "id": "8806569d-629c-46e0-99c7-9efd4e063022",
   "metadata": {},
   "source": [
    "### Hierarchical vs Flat Agent\n",
    "\n",
    "Now that we have our agents setup, we can run some simple and more complicated tasks to test them out. More simple tasks are tasks that can be completed with only a single tool/sub-agent, while more complicated tasks will require combining the information from multiple sub agents and sub queries. As a reminder the structure of our agents right now is:\n",
    "\n",
    "Flat Agent:\n",
    "* SQL Query Engine Tool (Countries DB)\n",
    "* Vector Index Query Engine Tool (Countries Wikipedia Pages)\n",
    "\n",
    "Hierarchical Agent:\n",
    "* SQL Agent\n",
    "    * SQL Query Engine Tool (Countries DB)\n",
    "* Vector Index Agent\n",
    "    * Vector Index Query Engine Tool (Countries Wikipedia Pages)\n",
    "    \n",
    "Let's start with some simple questions that only require a single tool to answer correctly:"
   ]
  },
  {
   "cell_type": "code",
   "execution_count": 11,
   "id": "fd1bbed2-3293-4e9c-a716-387bb42038c0",
   "metadata": {},
   "outputs": [
    {
     "name": "stdout",
     "output_type": "stream",
     "text": [
      "=== Calling Function ===\n",
      "Calling function: country_tool with args: {\n",
      "  \"input\": \"similarities between Norway and Sweden\"\n",
      "}\n",
      "Got output: Norway and Sweden share several similarities. Both countries are located in Northern Europe and are part of the Scandinavian Peninsula. They have a long history of political and cultural connections, including a period of union between 1814 and 1905. Both countries have a constitutional monarchy and share a similar political system. Additionally, Norway and Sweden have a similar standard of living and are known for their high levels of social welfare and quality of life. They also have a strong tradition of environmental conservation and are known for their beautiful natural landscapes, including fjords and mountains.\n",
      "========================\n",
      "Some similarities between Norway and Sweden include:\n",
      "\n",
      "1. Geographical Location: Both Norway and Sweden are located in Northern Europe and share the Scandinavian Peninsula. They have a similar climate and are surrounded by the Baltic Sea, North Sea, and Norwegian Sea.\n",
      "\n",
      "2. Historical Connections: Norway and Sweden have a long history of political and cultural connections. They were in a union from 1814 to 1905, known as the Union between Sweden and Norway. This period of union has influenced their shared history and cultural heritage.\n",
      "\n",
      "3. Political System: Both countries have a constitutional monarchy and a parliamentary system of government. They have similar political structures and democratic traditions.\n",
      "\n",
      "4. Standard of Living: Norway and Sweden are known for their high standard of living. They have strong social welfare systems, providing healthcare, education, and social security to their citizens. Both countries consistently rank highly in global quality of life indexes.\n",
      "\n",
      "5. Environmental Conservation: Norway and Sweden have a strong tradition of environmental conservation. They are known for their commitment to sustainable practices and protecting their natural landscapes. Both countries have beautiful natural scenery, including fjords, mountains, and forests.\n",
      "\n",
      "These are just a few examples of the similarities between Norway and Sweden. Both countries have a rich cultural heritage, strong economies, and a high quality of life.\n"
     ]
    }
   ],
   "source": [
    "print(flat_agent.chat('what are some similarities between norway and sweden'))"
   ]
  },
  {
   "cell_type": "code",
   "execution_count": 12,
   "id": "effcd391-0a10-45d4-9a13-53973cf55971",
   "metadata": {},
   "outputs": [
    {
     "name": "stdout",
     "output_type": "stream",
     "text": [
      "=== Calling Function ===\n",
      "Calling function: country_agent with args: {\n",
      "  \"input\": \"similarities between Norway and Sweden\"\n",
      "}\n",
      "=== Calling Function ===\n",
      "Calling function: country_tool with args: {\n",
      "  \"input\": \"Norway\"\n",
      "}\n",
      "Got output: Norway is a Nordic country located in Northern Europe. It is situated on the western and northernmost part of the Scandinavian Peninsula. The country has a total area of 385,207 square kilometers and a population of 5,488,984. Norway shares borders with Sweden, Finland, and Russia, and has a long coastline facing the North Atlantic Ocean and the Barents Sea. The capital and largest city of Norway is Oslo. Norway is known for its extensive reserves of petroleum, natural gas, minerals, lumber, seafood, and fresh water. It has a strong welfare model with universal healthcare and a comprehensive social security system. Norway is a constitutional monarchy with a unitary state structure and a parliamentary system. It is a member of various international organizations, including the United Nations, NATO, and the European Free Trade Association.\n",
      "========================\n",
      "=== Calling Function ===\n",
      "Calling function: country_tool with args: {\n",
      "  \"input\": \"Sweden\"\n",
      "}\n",
      "Got output: Sweden is a Nordic country located in Northern Europe. It is the largest Nordic country and the third-largest country in the European Union. The capital and largest city of Sweden is Stockholm. The country has a diverse climate, with mild conditions in the south, a continental climate in the center, and a subarctic climate in the north. Sweden is known for its extensive forests, lakes, and coastline. It has a population of 10.5 million, with a majority living in urban areas. Sweden is a highly developed country with a high standard of living and ranks well in various aspects such as quality of life, health, education, and gender equality. It is a constitutional monarchy and a parliamentary democracy. The Swedish Armed Forces are responsible for the defense of Sweden and are divided into the Army, Air Force, and Navy. Sweden has a history of neutrality during wartime and non-participation in military alliances during peacetime. However, it has recently moved towards cooperation with NATO. The economy of Sweden is export-oriented, with a strong emphasis on foreign trade. The engineering sector, telecommunications, automotive industry, and pharmaceutical industries are important contributors to the economy. Sweden is also known as a major arms exporter. Agriculture plays a smaller role in the economy, accounting for 2% of GDP and employment. Sweden has a high rate of collective bargaining and self-regulation in industrial relations. The country has low income inequality but relatively high wealth inequality.\n",
      "========================\n",
      "Got output: Norway and Sweden share several similarities due to their geographical proximity and cultural ties. Here are some of the similarities between Norway and Sweden:\n",
      "\n",
      "1. Nordic Countries: Both Norway and Sweden are Nordic countries located in Northern Europe. They share a similar climate, landscape, and natural beauty.\n",
      "\n",
      "2. Scandinavian Peninsula: Norway and Sweden are both located on the Scandinavian Peninsula, along with Denmark. This geographical location has influenced their history, culture, and traditions.\n",
      "\n",
      "3. Welfare Model: Both countries have a strong welfare model with universal healthcare, comprehensive social security systems, and high standards of living. They prioritize social welfare and have a commitment to providing a high quality of life for their citizens.\n",
      "\n",
      "4. Constitutional Monarchy: Norway and Sweden are constitutional monarchies with a parliamentary system. They have a king or queen as the head of state, but the political power is vested in the elected representatives.\n",
      "\n",
      "5. High Standard of Living: Norway and Sweden consistently rank among the countries with the highest standards of living in the world. They have well-developed infrastructure, education systems, healthcare, and social services.\n",
      "\n",
      "6. Gender Equality: Both countries are known for their commitment to gender equality. They have implemented policies and initiatives to promote gender equality in various aspects of society, including education, employment, and political representation.\n",
      "\n",
      "7. Natural Resources: Norway and Sweden are rich in natural resources. Norway is known for its extensive reserves of petroleum, natural gas, minerals, lumber, seafood, and fresh water. Sweden has abundant forests, minerals, and a diverse range of natural resources.\n",
      "\n",
      "8. Non-Aligned Foreign Policy: Both countries have a history of non-alignment in foreign policy. They have traditionally pursued a policy of neutrality during wartime and non-participation in military alliances during peacetime. However, Sweden has recently moved towards cooperation with NATO.\n",
      "\n",
      "9. Strong Economies: Norway and Sweden have strong and prosperous economies. They have a high GDP per capita and are known for their innovation, technology, and export-oriented industries. Both countries have a highly skilled workforce and a favorable business environment.\n",
      "\n",
      "10. Outdoor Activities: Norway and Sweden offer a wide range of outdoor activities and recreational opportunities. They have beautiful landscapes, including mountains, fjords, lakes, and forests, which attract tourists and outdoor enthusiasts.\n",
      "\n",
      "These are just some of the similarities between Norway and Sweden. Both countries have a rich history, vibrant cultures, and a commitment to social welfare and sustainability.\n",
      "========================\n",
      "Some similarities between Norway and Sweden include:\n",
      "\n",
      "1. Geographical Location: Both Norway and Sweden are located in Northern Europe and share a border with each other. They are part of the Scandinavian Peninsula and have similar landscapes, including mountains, forests, and lakes.\n",
      "\n",
      "2. Nordic Culture: Norway and Sweden are both Nordic countries and share a similar cultural heritage. They have similar traditions, customs, and values, including a strong emphasis on nature, outdoor activities, and a high quality of life.\n",
      "\n",
      "3. Welfare State: Both countries have a well-developed welfare state, providing social security, healthcare, and education to their citizens. They have high standards of living and prioritize social equality and well-being.\n",
      "\n",
      "4. Language: Norwegian and Swedish are closely related languages, belonging to the North Germanic branch of the Germanic language family. While they have distinct differences, speakers of one language can often understand the other to some extent.\n",
      "\n",
      "5. Education System: Norway and Sweden have highly regarded education systems, with a focus on providing free education for all citizens. Both countries have a high literacy rate and a strong emphasis on quality education.\n",
      "\n",
      "6. Outdoor Activities: Both Norway and Sweden offer a wide range of outdoor activities and are known for their beautiful natural landscapes. They have opportunities for hiking, skiing, fishing, and other outdoor pursuits.\n",
      "\n",
      "7. Environmental Consciousness: Norway and Sweden are known for their commitment to environmental sustainability. They have implemented policies to protect their natural resources, reduce carbon emissions, and promote renewable energy.\n",
      "\n",
      "8. High Standard of Living: Norway and Sweden consistently rank among the countries with the highest standard of living in the world. They have low levels of poverty, high life expectancy, and access to quality healthcare and social services.\n",
      "\n",
      "9. Political Stability: Both countries have a long history of political stability and democratic governance. They have well-established political systems and a strong rule of law.\n",
      "\n",
      "10. Strong Economies: Norway and Sweden have strong economies with a high GDP per capita. They have diverse industries, including oil and gas, manufacturing, technology, and services.\n",
      "\n",
      "These are just a few of the similarities between Norway and Sweden. Despite their distinct identities, the two countries share many commonalities due to their geographical proximity and shared history.\n"
     ]
    }
   ],
   "source": [
    "print(hierarchical_agent.chat('what are some similarities between norway and sweden'))"
   ]
  },
  {
   "cell_type": "markdown",
   "id": "fbcd8c20-d1a9-43d2-abc7-7344429a2120",
   "metadata": {},
   "source": [
    "## Interpretation \n",
    "\n",
    "Both of the agents used the wikipedia tools to answer a generic question about two countries, as expected. The main difference we see is that the flat agent delegated the entire question (\"similarities between Norway and Sweden\") to the query engine, where as the sub-agent in the hierarchical agent broke the question into two queries, \"Norway\" and \"Sweden\", and then synthesized the similarities from there.\n",
    "\n",
    "Which retrieval method is more effective will likely be dependant on the data and data formats that you are using. One note is that both methods are susceptible to hallucinations or adding extra content, as the retrieved chunks in both examples don't mention outdoors activities."
   ]
  },
  {
   "cell_type": "code",
   "execution_count": 13,
   "id": "c0ee2f4d-42e2-43bf-acb5-1977d73b9b8c",
   "metadata": {},
   "outputs": [
    {
     "name": "stdout",
     "output_type": "stream",
     "text": [
      "=== Calling Function ===\n",
      "Calling function: sql_tool with args: {\n",
      "  \"input\": \"SELECT airports.AirportCountry AS Country, gdp.MillionsGDP AS GDP FROM airports JOIN gdp ON airports.AirportCountry = gdp.CountryName JOIN population ON airports.AirportCountry = population.Country WHERE population.ThousandsPopulation < 10000 ORDER BY airports.TotalTravelers DESC LIMIT 1\"\n",
      "}\n",
      "Got output: The country with the highest number of total travelers and a population of less than 10,000 is the United Arab Emirates, with a GDP of 507,535 million.\n",
      "========================\n",
      "The country with the most airports and a population under 10 million is the United Arab Emirates. The GDP of the United Arab Emirates is 507,535 million.\n"
     ]
    }
   ],
   "source": [
    "print(flat_agent.chat('what is the name and gdp of the country with the most airports and a population under 10m'))"
   ]
  },
  {
   "cell_type": "code",
   "execution_count": 16,
   "id": "d8d15788-fdbb-443a-b3b9-8b763055dd6a",
   "metadata": {},
   "outputs": [
    {
     "name": "stdout",
     "output_type": "stream",
     "text": [
      "=== Calling Function ===\n",
      "Calling function: country_db_agent with args: {\n",
      "  \"input\": \"SELECT airports.AirportCountry AS CountryName, gdp.MillionsGDP FROM airports JOIN population ON airports.AirportCountry = population.Country JOIN gdp ON airports.AirportCountry = gdp.CountryName WHERE population.ThousandsPopulation < 10000 GROUP BY airports.AirportCountry ORDER BY COUNT(*) DESC LIMIT 1;\"\n",
      "}\n",
      "=== Calling Function ===\n",
      "Calling function: sql_tool with args: {\n",
      "  \"input\": \"SELECT airports.AirportCountry AS CountryName, gdp.MillionsGDP FROM airports JOIN population ON airports.AirportCountry = population.Country JOIN gdp ON airports.AirportCountry = gdp.CountryName WHERE population.ThousandsPopulation < 10000 GROUP BY airports.AirportCountry ORDER BY COUNT(*) DESC LIMIT 1;\"\n",
      "}\n",
      "Got output: The country with the highest number of airports and a population of less than 10,000 is Finland. Finland has a GDP of 280,826 million.\n",
      "========================\n",
      "Got output: The country with the highest number of airports and a population of less than 10,000 is Finland. Finland has a GDP of 280,826 million.\n",
      "========================\n",
      "The country with the most airports and a population under 10 million is Finland. Finland has a GDP of 280,826 million.\n"
     ]
    }
   ],
   "source": [
    "print(hierarchical_agent.chat('what is the name and gdp of the country with the most airports and a population under 10m'))"
   ]
  },
  {
   "cell_type": "markdown",
   "id": "4971e1ae-86c6-430a-927e-57fed6b1854e",
   "metadata": {},
   "source": [
    "### Interpretation\n",
    "\n",
    "The two agents interestingly decided to run different queries. The flat agents query amounts to selecting the country with the  airport that had the most travelers and a population under 10 million, while the hierarchical agent is selecting the country with the most airports in the airports table. In this case the hierarchical agent is correctly answering the question.\n",
    "\n",
    "### Joint SQL and Text searching\n",
    "\n",
    "Let's ask some questions that require the agents to use both SQL and vector searches\n"
   ]
  },
  {
   "cell_type": "code",
   "execution_count": 17,
   "id": "55707e4f-4869-4f3a-a2f7-a618aa9fae85",
   "metadata": {},
   "outputs": [
    {
     "name": "stdout",
     "output_type": "stream",
     "text": [
      "=== Calling Function ===\n",
      "Calling function: country_tool with args: {\n",
      "  \"input\": \"culture of the country with the 10th highest population\"\n",
      "}\n",
      "Got output: Based on the context information, the country with the 10th highest population is Japan. The culture of Japan is characterized by its rich history, traditions, and religious diversity. Japanese cultural history spans over thousands of years, with influences from various schools of thought such as Shinto, Buddhism, and Confucianism. The Japanese language, with its unique writing system, is the primary language spoken in the country. Traditional customs and practices, such as participating in religious ceremonies and festivals, hold significant importance in Japanese culture. Additionally, Western customs and influences, including Christianity, have also become popular in Japan. The country is known for its homogeneous society, with the majority of the population being of Japanese ethnicity.\n",
      "========================\n",
      "The country with the 10th highest population is Japan. The culture of Japan is rich and diverse, with a long history and unique traditions. Here are some key aspects of Japanese culture:\n",
      "\n",
      "1. History and Tradition: Japan has a rich cultural history that spans thousands of years. Traditional customs and practices, such as tea ceremonies, flower arranging (ikebana), and calligraphy, are still highly valued and practiced today.\n",
      "\n",
      "2. Religion: Japan has a mix of religious beliefs, with Shinto and Buddhism being the two major religions. Shinto is the indigenous religion of Japan, focusing on the worship of nature and ancestors. Buddhism was introduced to Japan from China and has had a significant influence on Japanese culture.\n",
      "\n",
      "3. Language: The Japanese language is the primary language spoken in Japan. It has a unique writing system that includes kanji (Chinese characters), hiragana, and katakana. Japanese is known for its politeness and honorifics.\n",
      "\n",
      "4. Arts and Entertainment: Japan is renowned for its traditional arts, such as kabuki theater, Noh theater, and traditional music (including the shamisen and koto). Manga (Japanese comics) and anime (Japanese animation) are also popular forms of entertainment that have gained international recognition.\n",
      "\n",
      "5. Cuisine: Japanese cuisine is famous worldwide for its fresh ingredients, meticulous preparation, and presentation. Traditional Japanese dishes include sushi, sashimi, tempura, ramen, and many others. The concept of umami, the fifth taste, originated in Japan.\n",
      "\n",
      "6. Fashion: Japan is known for its unique and avant-garde fashion trends. From traditional kimono to modern street fashion in Harajuku, Japanese fashion is diverse and constantly evolving.\n",
      "\n",
      "7. Technology and Innovation: Japan is recognized as a global leader in technology and innovation. The country has made significant contributions to fields such as electronics, robotics, automotive manufacturing, and more.\n",
      "\n",
      "These are just a few aspects of Japanese culture. Japan's culture is a blend of tradition and modernity, with a strong emphasis on respect, harmony, and attention to detail.\n"
     ]
    }
   ],
   "source": [
    "print(flat_agent.chat('what is the culture like of the country with the 10th highest population'))"
   ]
  },
  {
   "cell_type": "code",
   "execution_count": 18,
   "id": "19d75407-517d-4205-9293-437abe8bb5c6",
   "metadata": {},
   "outputs": [
    {
     "name": "stdout",
     "output_type": "stream",
     "text": [
      "=== Calling Function ===\n",
      "Calling function: country_agent with args: {\n",
      "  \"input\": \"culture of the country with the 10th highest population\"\n",
      "}\n",
      "=== Calling Function ===\n",
      "Calling function: country_tool with args: {\n",
      "  \"input\": \"culture of the country with the 10th highest population\"\n",
      "}\n",
      "Got output: Based on the context information, we cannot determine the country with the 10th highest population. Therefore, we cannot provide information about the culture of that specific country.\n",
      "========================\n",
      "Got output: I'm sorry, but I couldn't determine the country with the 10th highest population based on the information provided. Could you please specify the country you are referring to?\n",
      "========================\n",
      "=== Calling Function ===\n",
      "Calling function: country_db_agent with args: {\n",
      "  \"input\": \"SELECT Country FROM population ORDER BY ThousandsPopulation DESC LIMIT 1 OFFSET 9;\"\n",
      "}\n",
      "=== Calling Function ===\n",
      "Calling function: sql_tool with args: {\n",
      "  \"input\": \"SELECT Country FROM population ORDER BY ThousandsPopulation DESC LIMIT 1 OFFSET 9;\"\n",
      "}\n",
      "Got output: The country with the 10th highest population in thousands is Mexico.\n",
      "========================\n",
      "Got output: The country with the 10th highest population in thousands is Mexico.\n",
      "========================\n",
      "=== Calling Function ===\n",
      "Calling function: country_agent with args: {\n",
      "  \"input\": \"culture of Mexico\"\n",
      "}\n",
      "=== Calling Function ===\n",
      "Calling function: country_tool with args: {\n",
      "  \"input\": \"culture of Mexico\"\n",
      "}\n",
      "Got output: The culture of Mexico is a reflection of the country's complex history, blending indigenous cultures with the influence of Spain during its colonial rule. The concept of mestizaje, which emphasizes the blending of different races and cultures, particularly the indigenous element, is at the core of Mexican cultural identity. Mexican intellectuals have grappled with the idea of \"Lo Mexicano,\" seeking to discover the national ethos of Mexican culture. Mexican art, including painting, has a rich history, with examples dating back thousands of years. Mexican muralism, represented by artists such as Diego Rivera, David Alfaro Siqueiros, and José Clemente Orozco, has had a significant impact on shaping popular perceptions of the Mexican Revolution and Mexican cultural identity. Roman Catholicism remains the dominant religious affiliation in Mexico, although there is also a significant presence of Protestant/Evangelical Christian denominations. Additionally, Mexico has a diverse religious landscape, including Judaism, Islam, and spiritualist religions.\n",
      "========================\n",
      "Got output: The culture of Mexico is a vibrant and diverse mix of indigenous traditions and Spanish influences. The concept of mestizaje, or the blending of different races and cultures, is central to Mexican cultural identity. Mexican art, including painting, has a rich history, with examples dating back thousands of years. Mexican muralism, represented by artists such as Diego Rivera, David Alfaro Siqueiros, and José Clemente Orozco, has had a significant impact on shaping popular perceptions of Mexican culture. Roman Catholicism is the dominant religion in Mexico, but there is also a significant presence of Protestant/Evangelical Christian denominations, as well as other religions such as Judaism, Islam, and spiritualist religions.\n",
      "========================\n",
      "The culture of Mexico is a vibrant and diverse mix of indigenous traditions and Spanish influences. The concept of mestizaje, or the blending of different races and cultures, is central to Mexican cultural identity. Mexican art, including painting, sculpture, and pottery, has a rich history and is known for its vibrant colors and intricate designs. Traditional Mexican music, such as mariachi, banda, and ranchera, is popular and often accompanied by traditional dances like the Jarabe Tapatío (Mexican Hat Dance). Mexican cuisine is renowned worldwide, with dishes like tacos, tamales, and mole being staples of the Mexican diet. Day of the Dead (Día de los Muertos) is a significant cultural event in Mexico, where families gather to honor and remember their deceased loved ones. Overall, Mexican culture is characterized by its warmth, hospitality, and strong sense of community.\n"
     ]
    }
   ],
   "source": [
    "print(hierarchical_agent.chat('what is the culture like of the country with the 10th highest population'))"
   ]
  },
  {
   "cell_type": "markdown",
   "id": "129cdb72-5157-4d92-a407-568ca3e1a758",
   "metadata": {},
   "source": [
    "### Interpretation\n",
    "\n",
    "In this case, the country with the 10th highest population according to the data set is Mexico. Both agents attempted to use the wikipedia tool/agent as a resource first, however the hierarchical agent was told it didn't have access to the information while the flat agent was simply returned an answer based on Japan, which"
   ]
  }
 ],
 "metadata": {
  "kernelspec": {
   "display_name": "Python 3 (ipykernel)",
   "language": "python",
   "name": "python3"
  },
  "language_info": {
   "codemirror_mode": {
    "name": "ipython",
    "version": 3
   },
   "file_extension": ".py",
   "mimetype": "text/x-python",
   "name": "python",
   "nbconvert_exporter": "python",
   "pygments_lexer": "ipython3",
   "version": "3.9.12"
  }
 },
 "nbformat": 4,
 "nbformat_minor": 5
}
