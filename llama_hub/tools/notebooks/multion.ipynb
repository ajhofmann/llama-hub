{
 "cells": [
  {
   "cell_type": "markdown",
   "id": "f923a7f9-5505-4fbe-be4a-8870d9b2d7cf",
   "metadata": {},
   "source": [
    "## MultiOn Demo\n",
    "\n",
    "This notebook walks through an example of using LlamaIndex with MultiOn to browse the web on the users behalf.\n",
    "\n",
    "First, we import the OpenAIAgent that will control the Multion session:"
   ]
  },
  {
   "cell_type": "code",
   "execution_count": 1,
   "id": "daea8a25-468e-470c-99c9-ee6429bc522f",
   "metadata": {},
   "outputs": [],
   "source": [
    "# Set up OpenAI\n",
    "import openai\n",
    "from llama_index.agent import OpenAIAgent\n",
    "openai.api_key = 'sk-your-key'"
   ]
  },
  {
   "cell_type": "markdown",
   "id": "b4e2a467-bb2b-4642-993d-80b1fc852add",
   "metadata": {},
   "source": [
    "We then import the MultiOn tool and initialize our agent with the tool. When the MultiOn tool is initialized, the user will be prompted to authenticate the session in their browser"
   ]
  },
  {
   "cell_type": "code",
   "execution_count": 2,
   "id": "77d5b1ef-876f-4b90-94e4-dfde91e77fed",
   "metadata": {},
   "outputs": [
    {
     "name": "stdout",
     "output_type": "stream",
     "text": [
      "Already logged in.\n"
     ]
    }
   ],
   "source": [
    "# Set up MultiOn tool\n",
    "from llama_hub.tools.multion.base import MultionToolSpec\n",
    "multion_tool = MultionToolSpec()"
   ]
  },
  {
   "cell_type": "markdown",
   "id": "1d1d2f87-5a1f-4722-9f4f-ad0e072b190d",
   "metadata": {},
   "source": [
    "To support the MultiOn browsing session, we will also give our LlamaIndex agent a tool to search and summarize a users gmail inbox. We set up that tool below. For more information on the gmail tool, see the [Gmail notebook here](https://github.com/emptycrown/llama-hub/blob/main/llama_hub/tools/notebooks/gmail.ipynb)"
   ]
  },
  {
   "cell_type": "code",
   "execution_count": 3,
   "id": "f74cab58-1b97-416e-bb7a-ee7eaa14555a",
   "metadata": {},
   "outputs": [],
   "source": [
    "# Import and initialize our tool spec\n",
    "from llama_hub.tools.gmail.base import GmailToolSpec\n",
    "from llama_index.tools.ondemand_loader_tool import OnDemandLoaderTool\n",
    "\n",
    "# Initialize the Gmail tool to search our inbox \n",
    "gmail_tool = GmailToolSpec()\n",
    "\n",
    "# Wrap the tool so we don't overflow the main Agent's context window\n",
    "gmail_loader_tool = OnDemandLoaderTool.from_tool(\n",
    "    gmail_tool.to_tool_list()[1],\n",
    "    name=\"gmail_search\",\n",
    "    description=\"\"\"\n",
    "        This tool allows you to search the users gmail inbox and give directions for how to summarize or process the emails\n",
    "\n",
    "        You must always provide a query to filter the emails, as well as a query_str to process the retrieved emails.\n",
    "        All parameters are required\n",
    "        \n",
    "        If you need to reply to an email, ask this tool to build the reply directly\n",
    "        Examples:\n",
    "            query='from:adam subject:dinner', max_results=5, query_str='Where are adams favourite places to eat'\n",
    "            query='dentist appointment', max_results=1, query_str='When is the next dentist appointment'\n",
    "            query='to:jerry', max_results=1, query_str='summarize and then create a response email to jerrys latest email'\n",
    "            query='is:inbox', max_results=5, query_str='Summarize these emails'\n",
    "        \"\"\"\n",
    ")\n"
   ]
  },
  {
   "cell_type": "code",
   "execution_count": 4,
   "id": "ee9b63f5-4f99-4708-b1ab-67d64fdb0cee",
   "metadata": {},
   "outputs": [],
   "source": [
    "# Initialize our Agent with the MultiOn and Gmail loader tool\n",
    "agent = OpenAIAgent.from_tools(\n",
    "    [*multion_tool.to_tool_list(), gmail_loader_tool],\n",
    "    system_prompt=\"\"\"\n",
    "    You are an AI agent that assists the user in crafting email responses based on previous conversations.\n",
    "    \n",
    "    The gmail_search tool connects directly to an API to search and retrieve emails, and answer questions based on the content.\n",
    "    The browse tool allows you to control a web browser with natural language to complete arbitrary actions on the web.\n",
    "    \n",
    "    Use these two tools together to gain context on past emails and respond to conversations for the user.\n",
    "    \"\"\",\n",
    "    verbose=True,\n",
    ")"
   ]
  },
  {
   "cell_type": "markdown",
   "id": "6d16f81c-ce52-4405-9bb7-e5950123df8b",
   "metadata": {},
   "source": [
    "Our agent is now set up and ready to browse the web!\n",
    "\n",
    "To start we ask the agent to obtain the most recent blog post from openai"
   ]
  },
  {
   "cell_type": "code",
   "execution_count": 5,
   "id": "47731148-e414-4911-a7db-6406c835ddb8",
   "metadata": {},
   "outputs": [
    {
     "name": "stdout",
     "output_type": "stream",
     "text": [
      "=== Calling Function ===\n",
      "Calling function: gmail_search with args: {\n",
      "  \"query\": \"is:inbox\",\n",
      "  \"max_results\": 5,\n",
      "  \"query_str\": \"Summarize these emails\"\n",
      "}\n",
      "Got output: The emails contain information about different topics. The first email is about reading material for developers and technologists, while the second email is about making the most of summer days in San Francisco.\n",
      "========================\n",
      "Here is a summary of your recent emails:\n",
      "\n",
      "1. Email 1: The email is about reading material for developers and technologists.\n",
      "2. Email 2: The email is about making the most of summer days in San Francisco.\n",
      "\n",
      "Let me know if you would like more information about any specific email.\n"
     ]
    }
   ],
   "source": [
    "print(agent.chat('what are my recent emails about'))"
   ]
  },
  {
   "cell_type": "code",
   "execution_count": 6,
   "id": "a159dfe7-a3dc-4774-870c-23687611ffb1",
   "metadata": {},
   "outputs": [
    {
     "name": "stdout",
     "output_type": "stream",
     "text": [
      "=== Calling Function ===\n",
      "Calling function: browse with args: {\n",
      "  \"instruction\": \"Go to Gmail and search for the latest email from Canva\"\n",
      "}\n",
      "running new session\n",
      "Server Disconnected. Please press connect in the Multion extension popup\n",
      "Server Disconnected. Please press connect in the Multion extension popup\n",
      "Got output: {'url': 'https://mail.google.com/mail/u/0/', 'status': 'CONTINUE', 'action_completed': 'I am navigating to Gmail to search for the latest email from Canva.\\n\\n', 'content': \"Mail\\n\\nChat\\n\\nfe}\\nrR\\n\\nSpaces\\n\\nOr\\n\\nMeet\\n\\nMi Gmail\\n\\n@ Compose\\n\\nfk Inbox\\nyx © Starred\\n© _ Snoozed\\n—& Sent\\n\\nv More\\n\\nQ. Search in mail\\n\\nO-\\n\\nCG\\n\\nWorkable\\n\\nMedium - Programmi.\\n\\nMedium Daily Digest\\nQuickNode\\n\\nYelp\\n\\nLearnWeb3\\n\\nShopify Research\\nMedium Daily Digest\\nDeb at Zapier\\nMedium Daily Digest\\nMedium\\n\\nMedium\\n\\nWorkable\\n\\nMedium Daily Digest\\nCanva\\n\\nYelp\\n\\nMedium\\n\\nWorkable\\n\\nMedium\\n\\nMedium Daily Digest\\nDigitalOcean\\nMedium Daily Digest\\n\\n@rctver @ @ # Google @\\n1-50 of 1881 < >\\nNew candidates since August 28, 2023 - 9:17AM\\nDart 3.1 restrospective and deduplicati... 8:20AM\\nAutomated app deployment to Cloud R... 7:40AM\\nWe'd love your feedback - How likely a... 3:07AM\\nSummer isn’t over, Adam - From parks ... Aug 28\\n4 LearnWeb3 Weekly Catchup - Activi... Aug 28\\n\\nMULTI-ON\\n\\nAuto | Step\\n\\nWhat Lurks §\\nNew candida\\nFine-Tuning\\nCelebrating\\n\\nUncover ang\\nGo to Gmail and\\nsearch for the latest\\nemail from Canva\\n\\nThe Edition:\\nNew candida\\nStats for you\\n\\nlam navigating to Gmail to\\nsearch for the latest email\\n\\nfrom Canva.\\nLower your qd\\n\\nlard Artifi\\nEnable desktop notifications for Hypotenuse Mail. x [__ ress spacekeyopause | Do it!\\nen in Sa|\\n\\n\"}\n",
      "========================\n",
      "=== Calling Function ===\n",
      "Calling function: gmail_search with args: {\n",
      "  \"query\": \"from:canva\",\n",
      "  \"max_results\": 1,\n",
      "  \"query_str\": \"Summarize the latest email from Canva\"\n",
      "}\n",
      "Got output: The latest email from Canva is a celebration of their 10th birthday. The email thanks the recipient for their support and mentions that Canva has successfully shaped a decade in design. It also includes a footer with information about why the recipient is receiving the email and a link to unsubscribe from future emails.\n",
      "========================\n",
      "The latest email from Canva is a celebration of their 10th birthday. They thank you for your support and mention that Canva has successfully shaped a decade in design. The email also includes a footer with information about why you are receiving the email and a link to unsubscribe from future emails.\n",
      "\n",
      "Let me know if you need any further information or if there's anything else I can assist you with.\n"
     ]
    }
   ],
   "source": [
    "print(agent.chat('browse to the latest email from canva'))"
   ]
  },
  {
   "cell_type": "code",
   "execution_count": 7,
   "id": "cdf45a41-6009-46e5-a809-8d818c3b4d0f",
   "metadata": {},
   "outputs": [
    {
     "name": "stdout",
     "output_type": "stream",
     "text": [
      "=== Calling Function ===\n",
      "Calling function: gmail_search with args: {\n",
      "  \"query\": \"from:canva\",\n",
      "  \"max_results\": 1,\n",
      "  \"query_str\": \"Summarize and create a reply email to the latest email from Canva\"\n",
      "}\n",
      "Got output: The latest email from Canva is celebrating their 10th birthday and thanking the recipient for their support in shaping a decade of design. To create a reply email, you can express your congratulations and appreciation for Canva's milestone. You can also mention how Canva has positively impacted your design experience and express your excitement for future collaborations.\n",
      "========================\n",
      "=== Calling Function ===\n",
      "Calling function: browse with args: {\n",
      "  \"instruction\": \"Go to Gmail and compose a new email. Address it to Canva. Subject: Congratulations on your 10th birthday! Body: Dear Canva, Congratulations on reaching this incredible milestone of 10 years! I wanted to express my appreciation for the amazing design platform you have created. Canva has truly transformed my design experience and made it more accessible and enjoyable. Thank you for all the hard work and dedication you have put into shaping a decade of design. I am excited to see what the future holds for Canva and look forward to continued collaborations. Best regards, [Your Name]\"\n",
      "}\n",
      "session updated\n",
      "Got output: {'url': 'https://mail.google.com/mail/u/0/', 'status': 'CONTINUE', 'action_completed': 'I am clicking on the \"Compose\" button to start a new email.\\n\\n', 'content': 'Mail\\n\\nChat\\n\\nfe}\\nrR\\n\\nSpaces\\n\\nOr\\n\\nMeet\\n\\nMi Gmail\\n\\n@ Compose\\n\\nfk Inbox\\nyx © Starred\\n© _ Snoozed\\n—& Sent\\n\\nv More\\n\\nQ Search in mail iz\\nOr CG i\\nWorkable\\n\\nMedium - Programmi.\\nMedium Daily Digest\\nQuickNode\\n\\nYelp\\n\\nLearnWeb3\\n\\nShopify Research\\nMedium Daily Digest\\nDeb at Zapié New Message\\nMedium Dail\\n\\nMedium\\n\\nMedium Subject\\nWorkable\\n\\nMedium Dail\\n\\nCanva\\n\\nYelp\\n\\nMedium\\n\\nWorkable\\n\\nMedium\\n\\nMedium Dail\\nDigitalOcear\\n\\nMedium Dail\\n\\nEnable desktop notifications for Hypotenuse Mail.\\n\\n@ activex @ € 3 Google 6\\n\\n1-50 of 1,881 < >\\n\\nNew candidates since August 28, 2023 - 9:17AM\\nDart 3.1 restrospective and deduplicati... 8:20AM\\nAutomated app deployment to Cloud R... 7:40AM\\nWe\\'d love your feedback - How likely a... 3:07AM\\nSummer isn’t over, Adam - From parks ... Aug 28\\n4 LearnWeb3 Weekly Catchup - Activi... Aug 28\\n\\nPlatrorm you nave\\n\\ncreated. Canva has\\ntruly transformed my\\ndesign experience and\\nmade it more\\naccessible and\\nenjoyable. Thank you\\nfor all the hard work\\nand dedication you\\nhave put into shaping a\\ndecade of design. | am\\nexcited to see what the\\nfuture holds for Canva\\nand look forward to\\ncontinued\\ncollaborations. Best\\nregards, [Your Name]\\n\\nlam clicking on the\\n\"Compose\" button to start\\na new email.\\n'}\n",
      "========================\n",
      "I have clicked on the \"Compose\" button in Gmail to start a new email. Please find the draft of the reply email below:\n",
      "\n",
      "Subject: Congratulations on your 10th birthday!\n",
      "\n",
      "Dear Canva,\n",
      "\n",
      "Congratulations on reaching this incredible milestone of 10 years! I wanted to express my appreciation for the amazing design platform you have created. Canva has truly transformed my design experience and made it more accessible and enjoyable. Thank you for all the hard work and dedication you have put into shaping a decade of design.\n",
      "\n",
      "I am excited to see what the future holds for Canva and look forward to continued collaborations.\n",
      "\n",
      "Best regards,\n",
      "[Your Name]\n",
      "\n",
      "Please let me know if you would like any changes to the email before sending it.\n"
     ]
    }
   ],
   "source": [
    "print(agent.chat('Summarize the email, then create an approriate reply email to it, and then pass the full reply to the browser'))"
   ]
  },
  {
   "cell_type": "code",
   "execution_count": null,
   "id": "07fe11f9-da88-4eed-baa8-020a1e795cbb",
   "metadata": {},
   "outputs": [],
   "source": []
  }
 ],
 "metadata": {
  "kernelspec": {
   "display_name": "Python 3 (ipykernel)",
   "language": "python",
   "name": "python3"
  },
  "language_info": {
   "codemirror_mode": {
    "name": "ipython",
    "version": 3
   },
   "file_extension": ".py",
   "mimetype": "text/x-python",
   "name": "python",
   "nbconvert_exporter": "python",
   "pygments_lexer": "ipython3",
   "version": "3.9.12"
  }
 },
 "nbformat": 4,
 "nbformat_minor": 5
}
