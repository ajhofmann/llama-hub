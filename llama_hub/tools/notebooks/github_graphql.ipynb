{
 "cells": [
  {
   "cell_type": "code",
   "execution_count": 1,
   "id": "a5dc558d-05e3-4543-935a-ffa4512afb0f",
   "metadata": {},
   "outputs": [],
   "source": [
    "# Setup OpenAI with credentials\n",
    "import openai\n",
    "from llama_index.agent import OpenAIAgent\n",
    "\n",
    "openai.api_key = 'sk-key'"
   ]
  },
  {
   "cell_type": "code",
   "execution_count": 2,
   "id": "b76cea76-4dd1-411e-954e-efa82b2731f4",
   "metadata": {},
   "outputs": [],
   "source": [
    "from llama_hub.file.sdl.base import SDLReader\n",
    "from llama_index.tools.ondemand_loader_tool import OnDemandLoaderTool\n",
    "\n",
    "documentation_tool = OnDemandLoaderTool.from_defaults(\n",
    "    SDLReader(),\n",
    "    name=\"graphql_writer\",\n",
    "    description=\"\"\"\n",
    "        The GraphQL schema file is located at './data/github.graphql', this is always the file argument.\n",
    "        A tool for processing the GitHub GraphQL spec, and writing queries from the documentation.\n",
    "\n",
    "        You should pass a query_str to this tool in the form of a request to write a GraphQL query.\n",
    "\n",
    "        Examples:\n",
    "            file: './data/github.graphql', query_str='Write a graphql query to find unshipped orders'\n",
    "            file: './data/github.graphql', query_str='Write a graphql query to retrieve the stores products'\n",
    "            file: './data/github.graphql', query_str='What fields can you retrieve from the orders object'\n",
    "\n",
    "        \"\"\"\n",
    ")\n"
   ]
  },
  {
   "cell_type": "code",
   "execution_count": 3,
   "id": "7adf63b3-189b-46cd-9492-05aa7a5c4999",
   "metadata": {},
   "outputs": [],
   "source": [
    "from llama_hub.tools.graphql.base import GraphQLToolSpec\n",
    "\n",
    "url = 'https://api.github.com/graphql'\n",
    "headers = {\n",
    "    'content-type': 'application/json',\n",
    "    'Authorization': 'bearer your-key'\n",
    "}\n",
    "\n",
    "graphql_spec = GraphQLToolSpec(\n",
    "    url=url,\n",
    "    headers=headers\n",
    ")\n",
    "agent = OpenAIAgent.from_tools(\n",
    "    [*graphql_spec.to_tool_list(), documentation_tool],\n",
    "    system_prompt=f\"\"\"\n",
    "    You are a specialized Agent with access to the GitHub GraphQL API.\n",
    "    Your job is to chat with store owners and help them run GraphQL queries, interpreting the results for the user\n",
    " \n",
    "    You can use graphql_writer to query the schema and assist in writing queries.\n",
    "    \n",
    "    If the GraphQL you execute returns an error, either directly fix the query, or directly ask the graphql_writer questions about the schema instead of writing graphql queries.\n",
    "    Then use that information to write the correct graphql query\n",
    "    \"\"\",\n",
    "    verbose=True,\n",
    "    max_function_calls=20\n",
    ")\n"
   ]
  },
  {
   "cell_type": "code",
   "execution_count": 4,
   "id": "051dfada-df7c-4644-bd18-1e251a32ea7d",
   "metadata": {},
   "outputs": [
    {
     "name": "stdout",
     "output_type": "stream",
     "text": [
      "=== Calling Function ===\n",
      "Calling function: graphql_writer with args: {\n",
      "  \"filename\": \"./data/github.graphql\",\n",
      "  \"query_str\": \"What objects are available in the GraphQL endpoint?\"\n",
      "}\n",
      "Got output: \n",
      "The objects available in the GraphQL endpoint are: CodeOfConduct, Enterprise, EnterpriseAdministratorInvitation, License, MarketplaceCategory, MarketplaceListing, and Starrable.\n",
      "========================\n",
      "The GraphQL endpoint provides the following objects:\n",
      "\n",
      "1. CodeOfConduct\n",
      "2. Enterprise\n",
      "3. EnterpriseAdministratorInvitation\n",
      "4. License\n",
      "5. MarketplaceCategory\n",
      "6. MarketplaceListing\n",
      "7. Starrable\n",
      "\n",
      "These objects represent different entities and can be queried and manipulated using GraphQL queries.\n"
     ]
    }
   ],
   "source": [
    "print(agent.chat('what kind of objects does this graphql endpoint provide'))"
   ]
  },
  {
   "cell_type": "code",
   "execution_count": 5,
   "id": "b9e5883d-f766-4190-ae01-90ff5ee24c99",
   "metadata": {},
   "outputs": [
    {
     "name": "stdout",
     "output_type": "stream",
     "text": [
      "=== Calling Function ===\n",
      "Calling function: graphql_request with args: {\n",
      "  \"query\": \"query License($owner: String!, $repo: String!) {\\n  repository(owner: $owner, name: $repo) {\\n    licenseInfo {\\n      name\\n    }\\n  }\\n}\",\n",
      "  \"variables\": {\n",
      "    \"owner\": \"emptycrown\",\n",
      "    \"repo\": \"llama-hub\"\n",
      "  },\n",
      "  \"operation_name\": \"License\"\n",
      "}\n",
      "Got output: {\"data\":{\"repository\":{\"licenseInfo\":{\"name\":\"MIT License\"}}}}\n",
      "========================\n",
      "The \"emptycrown/llama-hub\" repository has the MIT License.\n"
     ]
    }
   ],
   "source": [
    "print(agent.chat('what license does emptycrown/llama-hub have'))"
   ]
  },
  {
   "cell_type": "code",
   "execution_count": 6,
   "id": "9c6f9495-5886-4361-8c97-514abf9d004a",
   "metadata": {},
   "outputs": [
    {
     "name": "stdout",
     "output_type": "stream",
     "text": [
      "=== Calling Function ===\n",
      "Calling function: graphql_request with args: {\n",
      "  \"query\": \"query MostRecentIssues($owner: String!, $repo: String!) {\\n  repository(owner: $owner, name: $repo) {\\n    issues(last: 5) {\\n      nodes {\\n        number\\n        title\\n      }\\n    }\\n  }\\n}\",\n",
      "  \"variables\": {\n",
      "    \"owner\": \"emptycrown\",\n",
      "    \"repo\": \"llama-hub\"\n",
      "  },\n",
      "  \"operation_name\": \"MostRecentIssues\"\n",
      "}\n",
      "Got output: {\"data\":{\"repository\":{\"issues\":{\"nodes\":[{\"number\":419,\"title\":\"Confluence connector reading pagination\"},{\"number\":429,\"title\":\"GoogleSheetsLoader - unable to read credentials.json\"},{\"number\":441,\"title\":\"Can't load AudioTranscriber()\"},{\"number\":451,\"title\":\"Exception: Failed to download https://api.docugami.com/v1preview1/docsets/qdiwmggnlkgw/documents/jletqxsefuge/dgml (status: 404)\"},{\"number\":454,\"title\":\"ERROR:custom_loader:An error occurred while loading data from fileids meta: __init__() takes exactly 1 positional argument (2 given)\"}]}}}}\n",
      "========================\n",
      "The most recent issues in the \"emptycrown/llama-hub\" repository are:\n",
      "\n",
      "1. Issue #419: \"Confluence connector reading pagination\"\n",
      "2. Issue #429: \"GoogleSheetsLoader - unable to read credentials.json\"\n",
      "3. Issue #441: \"Can't load AudioTranscriber()\"\n",
      "4. Issue #451: \"Exception: Failed to download https://api.docugami.com/v1preview1/docsets/qdiwmggnlkgw/documents/jletqxsefuge/dgml (status: 404)\"\n",
      "5. Issue #454: \"ERROR:custom_loader:An error occurred while loading data from fileids meta: __init__() takes exactly 1 positional argument (2 given)\"\n",
      "\n",
      "These are the most recent issues in the repository, along with their respective issue numbers and titles.\n"
     ]
    }
   ],
   "source": [
    "print(agent.chat('what are the most recent issues and numbers'))"
   ]
  },
  {
   "cell_type": "code",
   "execution_count": 7,
   "id": "01e03e6e-aacb-4be5-b5a5-d226607a32a9",
   "metadata": {},
   "outputs": [
    {
     "name": "stdout",
     "output_type": "stream",
     "text": [
      "=== Calling Function ===\n",
      "Calling function: graphql_request with args: {\n",
      "  \"query\": \"query Issue($owner: String!, $repo: String!, $issueNumber: Int!) {\\n  repository(owner: $owner, name: $repo) {\\n    issue(number: $issueNumber) {\\n      title\\n      body\\n      createdAt\\n      updatedAt\\n      author {\\n        login\\n      }\\n    }\\n  }\\n}\",\n",
      "  \"variables\": {\n",
      "    \"owner\": \"emptycrown\",\n",
      "    \"repo\": \"llama-hub\",\n",
      "    \"issueNumber\": 429\n",
      "  },\n",
      "  \"operation_name\": \"Issue\"\n",
      "}\n",
      "Got output: {\"data\":{\"repository\":{\"issue\":{\"title\":\"GoogleSheetsLoader - unable to read credentials.json\",\"body\":\"I'm writing a llama-index ingestion class and am using the GoogleSheetsLoader. I set up OAuth and added 'credentials.json' to the directory I run the loader in as stated in the documentation. I'm getting the credentials missing error below:\\r\\n\\r\\n```python\\r\\n  File \\\"/Users/rishabhshah/Documents/AgentGPT/platform/reworkd_platform/services/llama/llama.py\\\", line 27, in load_google_sheets\\r\\n    loaded_documents = loader.load_data(spreadsheet_ids)\\r\\n                       │      │         └ ['1hb9L-EK7SKvH8Us2XwhLBomcYSLMACNIZLiMM-jf-MM', '1hb9L-EK7SKvH8Us2XwhLBomcYSLMACNIZLiMM-jf-MM']\\r\\n                       │      └ <function GoogleSheetsReader.load_data at 0x16a2bef20>\\r\\n                       └ <custom_loader.GoogleSheetsReader object at 0x169e85b50>\\r\\n\\r\\n  File \\\"/Users/rishabhshah/Library/Caches/pypoetry/virtualenvs/reworkd-platform-Je4Ab5Ms-py3.11/lib/python3.11/site-packages/llama_index/readers/llamahub_modules/google_sheets/base.py\\\", line 61, in load_data\\r\\n    sheet = self._load_sheet(spreadsheet_id)\\r\\n            │    │           └ '1hb9L-EK7SKvH8Us2XwhLBomcYSLMACNIZLiMM-jf-MM'\\r\\n            │    └ <function GoogleSheetsReader._load_sheet at 0x16a2beac0>\\r\\n            └ <custom_loader.GoogleSheetsReader object at 0x169e85b50>\\r\\n  File \\\"/Users/rishabhshah/Library/Caches/pypoetry/virtualenvs/reworkd-platform-Je4Ab5Ms-py3.11/lib/python3.11/site-packages/llama_index/readers/llamahub_modules/google_sheets/base.py\\\", line 78, in _load_sheet\\r\\n    credentials = self._get_credentials()\\r\\n                  │    └ <function GoogleSheetsReader._get_credentials at 0x16a2bea20>\\r\\n                  └ <custom_loader.GoogleSheetsReader object at 0x169e85b50>\\r\\n  File \\\"/Users/rishabhshah/Library/Caches/pypoetry/virtualenvs/reworkd-platform-Je4Ab5Ms-py3.11/lib/python3.11/site-packages/llama_index/readers/llamahub_modules/google_sheets/base.py\\\", line 128, in _get_credentials\\r\\n    flow = InstalledAppFlow.from_client_secrets_file(\\r\\n           │                └ <classmethod(<function Flow.from_client_secrets_file at 0x16a25b060>)>\\r\\n           └ <class 'google_auth_oauthlib.flow.InstalledAppFlow'>\\r\\n  File \\\"/Users/rishabhshah/Library/Caches/pypoetry/virtualenvs/reworkd-platform-Je4Ab5Ms-py3.11/lib/python3.11/site-packages/google_auth_oauthlib/flow.py\\\", line 198, in from_client_secrets_file\\r\\n    with open(client_secrets_file, \\\"r\\\") as json_file:\\r\\n              └ 'credentials.json'\\r\\n``` \",\"createdAt\":\"2023-07-27T19:37:14Z\",\"updatedAt\":\"2023-07-27T19:37:14Z\",\"author\":{\"login\":\"shahrishabh7\"}}}}}\n",
      "========================\n",
      "The issue titled \"GoogleSheetsLoader - unable to read credentials.json\" in the \"emptycrown/llama-hub\" repository was created by the user \"shahrishabh7\". Here are some details about the issue:\n",
      "\n",
      "- Title: GoogleSheetsLoader - unable to read credentials.json\n",
      "- Body: The user is writing a llama-index ingestion class and is using the GoogleSheetsLoader. They have set up OAuth and added the 'credentials.json' file to the directory as mentioned in the documentation. However, they are encountering an error related to missing credentials when running the loader. The error traceback is provided in the issue description.\n",
      "- Created At: July 27, 2023, at 19:37:14 UTC\n",
      "- Updated At: July 27, 2023, at 19:37:14 UTC\n",
      "\n",
      "This issue seems to be related to a problem with reading the credentials.json file while using the GoogleSheetsLoader.\n"
     ]
    }
   ],
   "source": [
    "print(agent.chat('tell me more about the googlesheetsloader issue'))"
   ]
  },
  {
   "cell_type": "code",
   "execution_count": 8,
   "id": "9ea9fec6-c3d8-4c8c-be16-34cb96e21c38",
   "metadata": {},
   "outputs": [
    {
     "name": "stdout",
     "output_type": "stream",
     "text": [
      "To fix the issue of \"GoogleSheetsLoader - unable to read credentials.json\", we can try the following steps:\n",
      "\n",
      "1. Verify the location of the \"credentials.json\" file: Make sure that the \"credentials.json\" file is located in the correct directory where the loader is being executed. Double-check the file path and ensure that it is accessible.\n",
      "\n",
      "2. Check the file permissions: Ensure that the \"credentials.json\" file has the necessary read permissions. Make sure that the file is not locked or being used by another process.\n",
      "\n",
      "3. Confirm the file name and format: Verify that the file name is spelled correctly and matches the expected name \"credentials.json\". Additionally, ensure that the file is in the correct JSON format and does not contain any syntax errors.\n",
      "\n",
      "4. Validate the OAuth setup: Review the OAuth setup process and ensure that all the required steps have been followed correctly. Check if any additional configuration or authorization steps are needed to access the Google Sheets API.\n",
      "\n",
      "5. Update the code: Review the code that uses the GoogleSheetsLoader and ensure that the correct file path and credentials are being passed to the loader. Double-check if any additional configuration or authentication steps are required in the code.\n",
      "\n",
      "6. Test with a different file or environment: If the issue persists, try using a different \"credentials.json\" file or test the loader in a different environment to isolate any potential issues related to the file or environment setup.\n",
      "\n",
      "7. Seek community support: If the issue still cannot be resolved, consider reaching out to the community or the project's support channels for further assistance. Provide detailed information about the error message and steps taken so far to help others understand the problem better.\n",
      "\n",
      "By following these steps, we can troubleshoot and resolve the issue related to the GoogleSheetsLoader's inability to read the \"credentials.json\" file.\n"
     ]
    }
   ],
   "source": [
    "print(agent.chat('how could we fix the issue'))"
   ]
  },
  {
   "cell_type": "code",
   "execution_count": null,
   "id": "e597bc8a-123d-482e-adea-f234745b3140",
   "metadata": {},
   "outputs": [],
   "source": []
  }
 ],
 "metadata": {
  "kernelspec": {
   "display_name": "Python 3 (ipykernel)",
   "language": "python",
   "name": "python3"
  },
  "language_info": {
   "codemirror_mode": {
    "name": "ipython",
    "version": 3
   },
   "file_extension": ".py",
   "mimetype": "text/x-python",
   "name": "python",
   "nbconvert_exporter": "python",
   "pygments_lexer": "ipython3",
   "version": "3.9.12"
  }
 },
 "nbformat": 4,
 "nbformat_minor": 5
}
