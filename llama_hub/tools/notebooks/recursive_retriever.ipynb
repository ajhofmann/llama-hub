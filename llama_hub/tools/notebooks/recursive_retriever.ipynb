{
 "cells": [
  {
   "cell_type": "code",
   "execution_count": 1,
   "id": "b1ddb6f4-c51a-4e64-b2f2-adb357d5ebf6",
   "metadata": {},
   "outputs": [],
   "source": [
    "# Set up OpenAI\n",
    "import openai\n",
    "from llama_index.agent import OpenAIAgent\n",
    "openai.api_key = 'sk-your-key'"
   ]
  },
  {
   "cell_type": "code",
   "execution_count": 2,
   "id": "e4fa3ea6-b9ed-420e-9757-be304d689bfd",
   "metadata": {},
   "outputs": [],
   "source": [
    "from llama_index import (\n",
    "    VectorStoreIndex,\n",
    "    SimpleDirectoryReader,\n",
    ")\n",
    "\n",
    "wiki_titles = [\"Afghanistan\", \"Albania\", \"Algeria\", \"American Samoa\", \"Andorra\", \"Angola\", \"Anguilla\", \"Antigua and Barbuda\", \"Argentina\", \"Armenia\", \"Aruba\", \"Australia\", \"Austria\", \"Azerbaijan\", \"Bahamas\", \"Bahamas, The\", \"Bahrain\", \"Bangladesh\", \"Barbados\", \"Belarus\", \"Belgium\", \"Belize\", \"Benin\", \"Bermuda\", \"Bhutan\", \"Bolivia\", \"Bosnia and Herzegovina\", \"Botswana\", \"Brazil\", \"British Virgin Islands\", \"Brunei Darussalam\", \"Bulgaria\", \"Burkina Faso\", \"Burundi\", \"Cabo Verde\", \"Cambodia\", \"Cameroon\", \"Canada\", \"Cape Verde\", \"Cayman Islands\", \"Central African Republic\", \"Chad\", \"Channel Islands\", \"Chile\", \"China\", \"Christmas Island\", \"Cocos (Keeling) Islands\", \"Colombia\", \"Comoros\", \"Congo\", \"Congo, Dem. Rep.\", \"Congo, Rep.\", \"Cook Islands\", \"Costa Rica\", \"Croatia\", \"Cuba\", \"Curacao\", \"Curaçao\", \"Cyprus\", \"Czech Republic\", \"Côte d'Ivoire\", \"Democratic Republic of the Congo\", \"Denmark\", \"Djibouti\", \"Dominica\", \"Dominican Republic\", \"East Timor\", \"Ecuador\", \"Egypt\", \"Egypt, Arab Rep.\", \"El Salvador\", \"Equatorial Guinea\", \"Eritrea\", \"Estonia\", \"Eswatini\", \"Ethiopia\", \"Falkland Islands\", \"Faroe Islands\", \"Fiji\", \"Finland\", \"France\", \"French Guiana\", \"French Polynesia\", \"Gabon\", \"Gambia\", \"Gambia, The\", \"Georgia\", \"Germany\", \"Ghana\", \"Gibraltar\", \"Greece\", \"Greenland\", \"Grenada\", \"Guadeloupe\", \"Guam\", \"Guatemala\", \"Guinea Bissau\", \"Guinea\", \"Guinea-Bissau\", \"Guyana\", \"Haiti\", \"Honduras\", \"Hungary\", \"Iceland\", \"India\", \"Indonesia\", \"Iran\", \"Iran, Islamic Rep.\", \"Iraq\", \"Ireland\", \"Isle of Man\", \"Israel\", \"Italy\", \"Ivory Coast (Cote d'Ivoire)\", \"Jamaica\", \"Japan\", \"Jordan\", \"Kazakhstan\", \"Kenya\", \"Kiribati\", \"Korea, Rep.\", \"Kosovo\", \"Kuwait\", \"Kyrgyz Republic\", \"Kyrgyzstan\", \"Lao PDR\", \"Laos\", \"Latvia\", \"Lebanon\", \"Lesotho\", \"Liberia\", \"Libya\", \"Liechtenstein\", \"Lithuania\", \"Luxembourg\", \"Macao SAR, China\", \"Macedonia\", \"Madagascar\", \"Malawi\", \"Malaysia\", \"Maldives\", \"Mali\", \"Malta\", \"Marshall Islands\", \"Martinique\", \"Mauritania\", \"Mauritius\", \"Mayotte\", \"Mexico\", \"Micronesia\", \"Micronesia, Fed. Sts.\", \"Moldova\", \"Monaco\", \"Mongolia\", \"Montenegro\", \"Montserrat\", \"Morocco\", \"Mozambique\", \"Myanmar\", \"Namibia\", \"Nauru\", \"Nepal\", \"Netherlands\", \"New Caledonia\", \"New Zealand\", \"Nicaragua\", \"Niger\", \"Nigeria\", \"Niue\", \"Norfolk Island\", \"North Korea\", \"North Macedonia\", \"Northern Mariana Islands\", \"Norway\", \"Oman\", \"Pakistan\", \"Palau\", \"Panama\", \"Papua New Guinea\", \"Paraguay\", \"Peru\", \"Philippines\", \"Poland\", \"Portugal\", \"Puerto Rico\", \"Qatar\", \"Reunion\", \"Romania\", \"Russian Federation\", \"Rwanda\", \"Saint Barthelemy\", \"Saint Helena\", \"Saint Kitts and Nevis\", \"Saint Lucia\", \"Saint Martin\", \"Saint Pierre and Miquelon\", \"Saint Vincent and Grenadines\", \"Samoa\", \"San Marino\", \"Sao Tome and Principe\", \"Saudi Arabia\", \"Senegal\", \"Serbia\", \"Seychelles\", \"Sierra Leone\", \"Singapore\", \"Sint Maarten (Dutch part)\", \"Sint Maarten\", \"Slovak Republic\", \"Slovakia\", \"Slovenia\", \"Solomon Islands\", \"Somalia\", \"South Africa\", \"South Korea\", \"South Sudan\", \"Spain\", \"Sri Lanka\", \"St. Kitts and Nevis\", \"St. Lucia\", \"St. Martin (French part)\", \"St. Vincent and the Grenadines\", \"Sudan\", \"Suriname\", \"Swaziland\", \"Sweden\", \"Switzerland\", \"Syria\", \"Syrian Arab Republic\", \"São Tomé and Principe\", \"Taiwan\", \"Tajikistan\", \"Tanzania\", \"Thailand\", \"Timor-Leste\", \"Togo\", \"Tonga\", \"Trinidad and Tobago\", \"Tunisia\", \"Turkey\", \"Turkmenistan\", \"Turks and Caicos Islands\", \"Tuvalu\", \"Türkiye\", \"Uganda\", \"Ukraine\", \"United Arab Emirates\", \"United Kingdom\", \"United States\", \"Uruguay\", \"Uzbekistan\", \"Vanuatu\", \"Venezuela\", \"Venezuela, RB\", \"Vietnam\", \"Virgin Islands (U.S.)\", \"Wallis and Futuna Islands\", \"West Bank and Gaza\", \"Western Sahara\", \"Western Samoa\", \"Yemen\", \"Yemen, Rep.\", \"Zambia\", \"Zimbabwe\"]\n",
    "docs = {}\n",
    "\n",
    "for title in wiki_titles:\n",
    "    docs[title] = SimpleDirectoryReader(\n",
    "        input_files=[f\"data/{title}.txt\"]\n",
    "    ).load_data()\n",
    "    \n"
   ]
  },
  {
   "cell_type": "code",
   "execution_count": 3,
   "id": "6d7a98b6-9923-46da-a3ed-2f3929960136",
   "metadata": {},
   "outputs": [],
   "source": [
    "from llama_hub.tools.recursive_retriever.base import RecursiveRetrieverToolSpec\n",
    "rr_tool = RecursiveRetrieverToolSpec(docs, OpenAIAgent)\n"
   ]
  },
  {
   "cell_type": "code",
   "execution_count": 4,
   "id": "426fa0d2-5586-46aa-a5a2-fdcdf84dc2e6",
   "metadata": {},
   "outputs": [
    {
     "name": "stdout",
     "output_type": "stream",
     "text": [
      "\u001b[36;1m\u001b[1;3mRetrieving with query id None: what is the difference between toronto and ottawa\n",
      "\u001b[0m\u001b[38;5;200m\u001b[1;3mRetrieved node with id, entering: Canada\n",
      "\u001b[0m\u001b[36;1m\u001b[1;3mRetrieving with query id Canada: what is the difference between toronto and ottawa\n",
      "\u001b[0m=== Calling Function ===\n",
      "Calling function: vector_tool with args: {\n",
      "  \"input\": \"Toronto\"\n",
      "}\n",
      "Got output: Toronto is one of the major urban areas in Canada where new immigrants tend to settle. It is known for its high population density and is one of the most densely populated parts of the country. Toronto is also a global technology hub and is home to the headquarters of several global technology firms.\n",
      "========================\n",
      "=== Calling Function ===\n",
      "Calling function: vector_tool with args: {\n",
      "  \"input\": \"Ottawa\"\n",
      "}\n",
      "Got output: Ottawa is the capital city of Canada. It is located in the province of Ontario and is situated on the Ottawa River. Ottawa is the political center of the country, housing the Parliament of Canada, where the House of Commons and the Senate meet. It is also the residence of the Governor General, who represents the monarch in Canada. Additionally, Ottawa is home to various government departments and agencies.\n",
      "========================\n",
      "\u001b[32;1m\u001b[1;3mGot response: The main difference between Toronto and Ottawa is their respective roles and functions within Canada. \n",
      "\n",
      "Toronto is a major urban area and economic hub, known for its high population density and diverse population. It is a global city and a center for finance, business, arts, and culture. Toronto is also a major technology hub, with many global technology companies having their headquarters or offices in the city. It attracts a large number of immigrants and offers a wide range of opportunities for employment, education, and entertainment.\n",
      "\n",
      "On the other hand, Ottawa is the capital city of Canada. It is the political center of the country and houses the Parliament of Canada, where the country's laws are made. Ottawa is also the residence of the Governor General, who represents the monarch in Canada. The city is home to various government departments and agencies, making it an important administrative and bureaucratic center. Ottawa has a more laid-back and quieter atmosphere compared to Toronto, with a focus on government and public administration.\n",
      "\n",
      "In summary, Toronto is a bustling urban center with a focus on business, finance, and technology, while Ottawa is the political and administrative capital of Canada.\n",
      "\u001b[0m"
     ]
    },
    {
     "data": {
      "text/plain": [
       "dict_keys(['Afghanistan', 'Albania', 'Algeria', 'American Samoa', 'Andorra', 'Angola', 'Anguilla', 'Antigua and Barbuda', 'Argentina', 'Armenia', 'Aruba', 'Australia', 'Austria', 'Azerbaijan', 'Bahamas', 'Bahamas, The', 'Bahrain', 'Bangladesh', 'Barbados', 'Belarus', 'Belgium', 'Belize', 'Benin', 'Bermuda', 'Bhutan', 'Bolivia', 'Bosnia and Herzegovina', 'Botswana', 'Brazil', 'British Virgin Islands', 'Brunei Darussalam', 'Bulgaria', 'Burkina Faso', 'Burundi', 'Cabo Verde', 'Cambodia', 'Cameroon', 'Canada', 'Cape Verde', 'Cayman Islands', 'Central African Republic', 'Chad', 'Channel Islands', 'Chile', 'China', 'Christmas Island', 'Cocos (Keeling) Islands', 'Colombia', 'Comoros', 'Congo', 'Congo, Dem. Rep.', 'Congo, Rep.', 'Cook Islands', 'Costa Rica', 'Croatia', 'Cuba', 'Curacao', 'Curaçao', 'Cyprus', 'Czech Republic', \"Côte d'Ivoire\", 'Democratic Republic of the Congo', 'Denmark', 'Djibouti', 'Dominica', 'Dominican Republic', 'East Timor', 'Ecuador', 'Egypt', 'Egypt, Arab Rep.', 'El Salvador', 'Equatorial Guinea', 'Eritrea', 'Estonia', 'Eswatini', 'Ethiopia', 'Falkland Islands', 'Faroe Islands', 'Fiji', 'Finland', 'France', 'French Guiana', 'French Polynesia', 'Gabon', 'Gambia', 'Gambia, The', 'Georgia', 'Germany', 'Ghana', 'Gibraltar', 'Greece', 'Greenland', 'Grenada', 'Guadeloupe', 'Guam', 'Guatemala', 'Guinea Bissau', 'Guinea', 'Guinea-Bissau', 'Guyana', 'Haiti', 'Honduras', 'Hungary', 'Iceland', 'India', 'Indonesia', 'Iran', 'Iran, Islamic Rep.', 'Iraq', 'Ireland', 'Isle of Man', 'Israel', 'Italy', \"Ivory Coast (Cote d'Ivoire)\", 'Jamaica', 'Japan', 'Jordan', 'Kazakhstan', 'Kenya', 'Kiribati', 'Korea, Rep.', 'Kosovo', 'Kuwait', 'Kyrgyz Republic', 'Kyrgyzstan', 'Lao PDR', 'Laos', 'Latvia', 'Lebanon', 'Lesotho', 'Liberia', 'Libya', 'Liechtenstein', 'Lithuania', 'Luxembourg', 'Macao SAR, China', 'Macedonia', 'Madagascar', 'Malawi', 'Malaysia', 'Maldives', 'Mali', 'Malta', 'Marshall Islands', 'Martinique', 'Mauritania', 'Mauritius', 'Mayotte', 'Mexico', 'Micronesia', 'Micronesia, Fed. Sts.', 'Moldova', 'Monaco', 'Mongolia', 'Montenegro', 'Montserrat', 'Morocco', 'Mozambique', 'Myanmar', 'Namibia', 'Nauru', 'Nepal', 'Netherlands', 'New Caledonia', 'New Zealand', 'Nicaragua', 'Niger', 'Nigeria', 'Niue', 'Norfolk Island', 'North Korea', 'North Macedonia', 'Northern Mariana Islands', 'Norway', 'Oman', 'Pakistan', 'Palau', 'Panama', 'Papua New Guinea', 'Paraguay', 'Peru', 'Philippines', 'Poland', 'Portugal', 'Puerto Rico', 'Qatar', 'Reunion', 'Romania', 'Russian Federation', 'Rwanda', 'Saint Barthelemy', 'Saint Helena', 'Saint Kitts and Nevis', 'Saint Lucia', 'Saint Martin', 'Saint Pierre and Miquelon', 'Saint Vincent and Grenadines', 'Samoa', 'San Marino', 'Sao Tome and Principe', 'Saudi Arabia', 'Senegal', 'Serbia', 'Seychelles', 'Sierra Leone', 'Singapore', 'Sint Maarten (Dutch part)', 'Sint Maarten', 'Slovak Republic', 'Slovakia', 'Slovenia', 'Solomon Islands', 'Somalia', 'South Africa', 'South Korea', 'South Sudan', 'Spain', 'Sri Lanka', 'St. Kitts and Nevis', 'St. Lucia', 'St. Martin (French part)', 'St. Vincent and the Grenadines', 'Sudan', 'Suriname', 'Swaziland', 'Sweden', 'Switzerland', 'Syria', 'Syrian Arab Republic', 'São Tomé and Principe', 'Taiwan', 'Tajikistan', 'Tanzania', 'Thailand', 'Timor-Leste', 'Togo', 'Tonga', 'Trinidad and Tobago', 'Tunisia', 'Turkey', 'Turkmenistan', 'Turks and Caicos Islands', 'Tuvalu', 'Türkiye', 'Uganda', 'Ukraine', 'United Arab Emirates', 'United Kingdom', 'United States', 'Uruguay', 'Uzbekistan', 'Vanuatu', 'Venezuela', 'Venezuela, RB', 'Vietnam', 'Virgin Islands (U.S.)', 'Wallis and Futuna Islands', 'West Bank and Gaza', 'Western Sahara', 'Western Samoa', 'Yemen', 'Yemen, Rep.', 'Zambia', 'Zimbabwe'])"
      ]
     },
     "execution_count": 4,
     "metadata": {},
     "output_type": "execute_result"
    }
   ],
   "source": [
    "rr_tool.query('what is the difference between toronto and ottawa')\n",
    "rr_tool.query_keys()"
   ]
  },
  {
   "cell_type": "code",
   "execution_count": 30,
   "id": "70b32cf2-7ae9-48cd-a03d-c1ecb018ed65",
   "metadata": {},
   "outputs": [],
   "source": [
    "agent = OpenAIAgent.from_tools(\n",
    "    rr_tool.to_tool_list(),\n",
    "    system_agent=f\"\"\"\n",
    "    You are a knowledge agent designed to retrieve information from a tool.\n",
    "    The tool has information on the following countries: {rr_tool.query_keys()}\n",
    "    \n",
    "    Only make queries to the tool that pertain to a single country.\n",
    "    If information is relevant to multiple countries, make multiple queries, one per country.\n",
    "    Always prefer making multiple queries over a single one.\n",
    "    For example, if asked about two cities in different countries, make seperate queries.\n",
    "    \"\"\",\n",
    "    verbose=True,\n",
    ")"
   ]
  },
  {
   "cell_type": "code",
   "execution_count": 31,
   "id": "fd4e3ef8-1f1f-409e-8c50-7d8d6219acfd",
   "metadata": {},
   "outputs": [
    {
     "name": "stdout",
     "output_type": "stream",
     "text": [
      "=== Calling Function ===\n",
      "Calling function: query with args: {\n",
      "  \"query\": \"similarities and differences in the cultures of canada, italy, and russia\"\n",
      "}\n",
      "\u001b[36;1m\u001b[1;3mRetrieving with query id None: similarities and differences in the cultures of canada, italy, and russia\n",
      "\u001b[0m\u001b[38;5;200m\u001b[1;3mRetrieved node with id, entering: Canada\n",
      "\u001b[0m\u001b[36;1m\u001b[1;3mRetrieving with query id Canada: similarities and differences in the cultures of canada, italy, and russia\n",
      "\u001b[0m\u001b[32;1m\u001b[1;3mGot response: Canada, Italy, and Russia have distinct cultures with both similarities and differences. Here are some key points to consider:\n",
      "\n",
      "Similarities:\n",
      "1. Family Values: All three countries place a strong emphasis on family values and have close-knit family structures.\n",
      "2. Cuisine: Each country has a rich culinary tradition. Canada is known for poutine and maple syrup, Italy for pasta and pizza, and Russia for dishes like borscht and pelmeni.\n",
      "3. Festivals and Celebrations: All three countries have vibrant festivals and celebrations that showcase their cultural heritage. For example, Canada celebrates Canada Day, Italy has Carnevale and the Feast of San Gennaro, and Russia celebrates Maslenitsa and Victory Day.\n",
      "4. Love for Sports: Ice hockey is a popular sport in Canada, while Italy is known for its passion for soccer. Russia also has a strong sporting culture, with a focus on ice hockey, soccer, and gymnastics.\n",
      "\n",
      "Differences:\n",
      "1. Language: Canada has two official languages, English and French, while Italy primarily speaks Italian and Russia speaks Russian.\n",
      "2. Religion: Italy is predominantly Roman Catholic, while Canada and Russia have a mix of religious affiliations, including Christianity, Islam, and other faiths.\n",
      "3. Climate: Canada has a diverse climate, ranging from cold winters to hot summers. Italy has a Mediterranean climate with mild winters and hot summers, while Russia has a continental climate with long, cold winters and short, warm summers.\n",
      "4. Art and Architecture: Each country has its own unique artistic and architectural styles. Italy is renowned for its Renaissance art and iconic landmarks like the Colosseum and the Leaning Tower of Pisa. Canada has a blend of Indigenous, European, and modern influences in its art and architecture. Russia is known for its distinctive onion domes in its churches and its contributions to literature, ballet, and classical music.\n",
      "\n",
      "These are just a few examples of the similarities and differences in the cultures of Canada, Italy, and Russia. Each country has its own rich history, traditions, and customs that contribute to its unique cultural identity.\n",
      "\u001b[0mGot output: Canada, Italy, and Russia have distinct cultures with both similarities and differences. Some similarities include a strong emphasis on family values, a rich culinary tradition, vibrant festivals and celebrations, and a love for sports. However, there are also differences in terms of language, religion, climate, and art and architecture. Canada has two official languages, English and French, while Italy primarily speaks Italian and Russia speaks Russian. Italy is predominantly Roman Catholic, while Canada and Russia have a mix of religious affiliations. Canada has a diverse climate, Italy has a Mediterranean climate, and Russia has a continental climate. Each country also has its own unique artistic and architectural styles.\n",
      "========================\n",
      "The cultures of Canada, Italy, and Russia have both similarities and differences. Some similarities include:\n",
      "\n",
      "1. Family Values: All three countries place a strong emphasis on family values and have close-knit family structures.\n",
      "\n",
      "2. Culinary Tradition: Canada, Italy, and Russia have rich culinary traditions. Each country has its own unique dishes and cooking styles.\n",
      "\n",
      "3. Festivals and Celebrations: All three countries have vibrant festivals and celebrations that showcase their cultural heritage and traditions.\n",
      "\n",
      "4. Love for Sports: Canada, Italy, and Russia have a passion for sports. Ice hockey is popular in Canada, football (soccer) is beloved in Italy, and ice hockey and football are popular in Russia.\n",
      "\n",
      "However, there are also differences in the cultures of these countries:\n",
      "\n",
      "1. Language: Canada has two official languages, English and French, while Italy primarily speaks Italian and Russia speaks Russian.\n",
      "\n",
      "2. Religion: Italy is predominantly Roman Catholic, while Canada and Russia have a mix of religious affiliations.\n",
      "\n",
      "3. Climate: Canada has a diverse climate, ranging from cold winters to hot summers. Italy has a Mediterranean climate with mild winters and hot summers. Russia has a continental climate with long, cold winters and short, warm summers.\n",
      "\n",
      "4. Art and Architecture: Each country has its own unique artistic and architectural styles. Canada has a blend of Indigenous, European, and modern influences. Italy is known for its Renaissance art and classical architecture. Russia has a rich history of Byzantine, Baroque, and Soviet-era architecture.\n",
      "\n",
      "These are just a few examples of the similarities and differences in the cultures of Canada, Italy, and Russia. Each country has its own unique traditions, customs, and cultural practices that contribute to its distinct identity.\n"
     ]
    }
   ],
   "source": [
    "print(agent.chat('what are the similarities and differences in the cultures of canada, italy and russia'))"
   ]
  },
  {
   "cell_type": "code",
   "execution_count": null,
   "id": "9762b2e5-d01d-4b5e-87dc-c3df968ca978",
   "metadata": {},
   "outputs": [],
   "source": []
  }
 ],
 "metadata": {
  "kernelspec": {
   "display_name": "Python 3 (ipykernel)",
   "language": "python",
   "name": "python3"
  },
  "language_info": {
   "codemirror_mode": {
    "name": "ipython",
    "version": 3
   },
   "file_extension": ".py",
   "mimetype": "text/x-python",
   "name": "python",
   "nbconvert_exporter": "python",
   "pygments_lexer": "ipython3",
   "version": "3.9.12"
  }
 },
 "nbformat": 4,
 "nbformat_minor": 5
}
